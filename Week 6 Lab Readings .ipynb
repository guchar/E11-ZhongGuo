{
 "cells": [
  {
   "cell_type": "code",
   "execution_count": 25,
   "id": "93f41140",
   "metadata": {},
   "outputs": [
    {
     "data": {
      "text/html": [
       "<div>\n",
       "<style scoped>\n",
       "    .dataframe tbody tr th:only-of-type {\n",
       "        vertical-align: middle;\n",
       "    }\n",
       "\n",
       "    .dataframe tbody tr th {\n",
       "        vertical-align: top;\n",
       "    }\n",
       "\n",
       "    .dataframe thead th {\n",
       "        text-align: right;\n",
       "    }\n",
       "</style>\n",
       "<table border=\"1\" class=\"dataframe\">\n",
       "  <thead>\n",
       "    <tr style=\"text-align: right;\">\n",
       "      <th></th>\n",
       "      <th>Timestamp</th>\n",
       "      <th>PM 1.0</th>\n",
       "      <th>PM 2.5</th>\n",
       "      <th>PM 10</th>\n",
       "      <th>Temperature</th>\n",
       "      <th>Gas</th>\n",
       "      <th>Humidity</th>\n",
       "      <th>Pressure</th>\n",
       "      <th>Altitude</th>\n",
       "    </tr>\n",
       "  </thead>\n",
       "  <tbody>\n",
       "    <tr>\n",
       "      <th>0</th>\n",
       "      <td>1.676508e+09</td>\n",
       "      <td>0</td>\n",
       "      <td>0</td>\n",
       "      <td>1</td>\n",
       "      <td>22.477656</td>\n",
       "      <td>59920</td>\n",
       "      <td>20.111729</td>\n",
       "      <td>1012.453568</td>\n",
       "      <td>6.632956</td>\n",
       "    </tr>\n",
       "    <tr>\n",
       "      <th>1</th>\n",
       "      <td>1.676508e+09</td>\n",
       "      <td>0</td>\n",
       "      <td>0</td>\n",
       "      <td>1</td>\n",
       "      <td>22.497383</td>\n",
       "      <td>10075</td>\n",
       "      <td>20.107766</td>\n",
       "      <td>1012.465545</td>\n",
       "      <td>6.533171</td>\n",
       "    </tr>\n",
       "    <tr>\n",
       "      <th>2</th>\n",
       "      <td>1.676508e+09</td>\n",
       "      <td>0</td>\n",
       "      <td>0</td>\n",
       "      <td>1</td>\n",
       "      <td>22.538008</td>\n",
       "      <td>12824</td>\n",
       "      <td>20.105035</td>\n",
       "      <td>1012.465958</td>\n",
       "      <td>6.529735</td>\n",
       "    </tr>\n",
       "    <tr>\n",
       "      <th>3</th>\n",
       "      <td>1.676508e+09</td>\n",
       "      <td>0</td>\n",
       "      <td>0</td>\n",
       "      <td>1</td>\n",
       "      <td>22.578437</td>\n",
       "      <td>14428</td>\n",
       "      <td>20.066414</td>\n",
       "      <td>1012.454092</td>\n",
       "      <td>6.628584</td>\n",
       "    </tr>\n",
       "    <tr>\n",
       "      <th>4</th>\n",
       "      <td>1.676508e+09</td>\n",
       "      <td>0</td>\n",
       "      <td>0</td>\n",
       "      <td>1</td>\n",
       "      <td>22.614180</td>\n",
       "      <td>15570</td>\n",
       "      <td>20.012154</td>\n",
       "      <td>1012.454565</td>\n",
       "      <td>6.624647</td>\n",
       "    </tr>\n",
       "  </tbody>\n",
       "</table>\n",
       "</div>"
      ],
      "text/plain": [
       "      Timestamp  PM 1.0  PM 2.5  PM 10  Temperature    Gas   Humidity  \\\n",
       "0  1.676508e+09       0       0      1    22.477656  59920  20.111729   \n",
       "1  1.676508e+09       0       0      1    22.497383  10075  20.107766   \n",
       "2  1.676508e+09       0       0      1    22.538008  12824  20.105035   \n",
       "3  1.676508e+09       0       0      1    22.578437  14428  20.066414   \n",
       "4  1.676508e+09       0       0      1    22.614180  15570  20.012154   \n",
       "\n",
       "      Pressure  Altitude  \n",
       "0  1012.453568  6.632956  \n",
       "1  1012.465545  6.533171  \n",
       "2  1012.465958  6.529735  \n",
       "3  1012.454092  6.628584  \n",
       "4  1012.454565  6.624647  "
      ]
     },
     "execution_count": 25,
     "metadata": {},
     "output_type": "execute_result"
    }
   ],
   "source": [
    "import numpy as np\n",
    "import matplotlib.pyplot as plt\n",
    "from scipy.stats import binom\n",
    "from scipy.stats import poisson\n",
    "from scipy.stats import norm\n",
    "import time\n",
    "from IPython import display\n",
    "\n",
    "df = pd.read_csv(\"/Users/charliegu_1/Documents/GitHub/E11-ZhongGuo/file_second\")\n",
    "df.head()"
   ]
  },
  {
   "cell_type": "code",
   "execution_count": 40,
   "id": "38bf0313",
   "metadata": {},
   "outputs": [
    {
     "name": "stderr",
     "output_type": "stream",
     "text": [
      "/Users/charliegu_1/opt/anaconda3/lib/python3.9/site-packages/scipy/stats/_distn_infrastructure.py:1870: RuntimeWarning: invalid value encountered in true_divide\n",
      "  x = np.asarray((x - loc)/scale, dtype=dtyp)\n"
     ]
    },
    {
     "data": {
      "text/plain": [
       "[<matplotlib.lines.Line2D at 0x7ff2d78f4550>]"
      ]
     },
     "execution_count": 40,
     "metadata": {},
     "output_type": "execute_result"
    },
    {
     "data": {
      "image/png": "[encoded data removed]",
      "text/plain": [
       "<Figure size 432x288 with 1 Axes>"
      ]
     },
     "metadata": {
      "needs_background": "light"
     },
     "output_type": "display_data"
    }
   ],
   "source": [
    "one_mean = np.mean(df['PM 1.0'])\n",
    "one_std = np.std(df['PM 1.0'])\n",
    "\n",
    "one_x = np.linspace(one_mean - 5 * one_std, one_mean + 5* one_std, 100)\n",
    "one_y = norm.pdf(one_x, one_mean, one_std)\n",
    "\n",
    "plt.hist(df['PM 1.0'], density = True)\n",
    "plt.xlabel(\"PM 1.0\")\n",
    "plt.ylabel(\"Frequency\")\n",
    "plt.plot(one_x, one_y, label=\"P(x)\")"
   ]
  },
  {
   "cell_type": "code",
   "execution_count": 43,
   "id": "cd832e7a",
   "metadata": {},
   "outputs": [
    {
     "name": "stderr",
     "output_type": "stream",
     "text": [
      "/Users/charliegu_1/opt/anaconda3/lib/python3.9/site-packages/scipy/stats/_distn_infrastructure.py:1870: RuntimeWarning: invalid value encountered in true_divide\n",
      "  x = np.asarray((x - loc)/scale, dtype=dtyp)\n"
     ]
    },
    {
     "data": {
      "text/plain": [
       "[<matplotlib.lines.Line2D at 0x7ff2d729b880>]"
      ]
     },
     "execution_count": 43,
     "metadata": {},
     "output_type": "execute_result"
    },
    {
     "data": {
      "image/png": "[encoded data removed]",
      "text/plain": [
       "<Figure size 432x288 with 1 Axes>"
      ]
     },
     "metadata": {
      "needs_background": "light"
     },
     "output_type": "display_data"
    }
   ],
   "source": [
    "mid_mean = np.mean(df['PM 2.5'])\n",
    "mid_std = np.std(df['PM 2.5'])\n",
    "\n",
    "mid_x = np.linspace(mid_mean - 5 * mid_std, mid_mean + 5* mid_std, 100)\n",
    "mid_y = norm.pdf(mid_x, mid_mean, mid_std)\n",
    "\n",
    "plt.hist(df['PM 2.5'], density = True)\n",
    "plt.xlabel(\"PM 2.5\")\n",
    "plt.ylabel(\"Frequency\")\n",
    "plt.plot(mid_x, mid_y, label=\"P(x)\")"
   ]
  },
  {
   "cell_type": "code",
   "execution_count": 54,
   "id": "44935a8b",
   "metadata": {},
   "outputs": [
    {
     "data": {
      "text/plain": [
       "[<matplotlib.lines.Line2D at 0x7ff2d6afd730>]"
      ]
     },
     "execution_count": 54,
     "metadata": {},
     "output_type": "execute_result"
    },
    {
     "data": {
      "image/png": "[encoded data removed]",
      "text/plain": [
       "<Figure size 432x288 with 1 Axes>"
      ]
     },
     "metadata": {
      "needs_background": "light"
     },
     "output_type": "display_data"
    }
   ],
   "source": [
    "ten_mean = np.mean(df['PM 10'])\n",
    "ten_std = np.std(df['PM 10'])\n",
    "\n",
    "ten_x = np.linspace(ten_mean - 5 * ten_std, ten_mean + 5* ten_std, 100)\n",
    "ten_y = norm.pdf(ten_x, ten_mean, ten_std)\n",
    "\n",
    "plt.hist(df['PM 10'], density = True)\n",
    "plt.xlabel(\"PM 10\")\n",
    "plt.ylabel(\"Frequency\")\n",
    "plt.plot(ten_x, ten_y, label=\"P(x)\")"
   ]
  },
  {
   "cell_type": "code",
   "execution_count": 31,
   "id": "93732246",
   "metadata": {},
   "outputs": [
    {
     "data": {
      "text/plain": [
       "[<matplotlib.lines.Line2D at 0x7ff2d5f1e9a0>]"
      ]
     },
     "execution_count": 31,
     "metadata": {},
     "output_type": "execute_result"
    },
    {
     "data": {
      "image/png": "[encoded data removed]",
      "text/plain": [
       "<Figure size 432x288 with 1 Axes>"
      ]
     },
     "metadata": {
      "needs_background": "light"
     },
     "output_type": "display_data"
    }
   ],
   "source": [
    "temp_mean = np.mean(df['Temperature'])\n",
    "temp_std = np.std(df['Temperature'])\n",
    "\n",
    "temp_x = np.linspace(temp_mean - 5 * temp_std, temp_mean + 5* temp_std, 100)\n",
    "temp_y = norm.pdf(temp_x, temp_mean, temp_std)\n",
    "\n",
    "\n",
    "plt.hist(df['Temperature'], density = True)\n",
    "plt.xlabel(\"Temperature\")\n",
    "plt.ylabel(\"Frequency\")\n",
    "plt.plot(temp_x, temp_y, label=\"P(x)\")\n"
   ]
  },
  {
   "cell_type": "code",
   "execution_count": 35,
   "id": "71f3920b",
   "metadata": {},
   "outputs": [
    {
     "data": {
      "text/plain": [
       "[<matplotlib.lines.Line2D at 0x7ff2d6133c10>]"
      ]
     },
     "execution_count": 35,
     "metadata": {},
     "output_type": "execute_result"
    },
    {
     "data": {
      "image/png": "[encoded data removed]",
      "text/plain": [
       "<Figure size 432x288 with 1 Axes>"
      ]
     },
     "metadata": {
      "needs_background": "light"
     },
     "output_type": "display_data"
    }
   ],
   "source": [
    "gas_mean = np.mean(df['Gas'])\n",
    "gas_std = np.std(df['Gas'])\n",
    "\n",
    "gas_x = np.linspace(gas_mean - 5 * gas_std, gas_mean + 5* gas_std, 100)\n",
    "gas_y = norm.pdf(gas_x, gas_mean, gas_std)\n",
    "\n",
    "\n",
    "plt.hist(df['Gas'], density = True)\n",
    "plt.xlabel(\"Gas\")\n",
    "plt.ylabel(\"Frequency\")\n",
    "plt.plot(gas_x, gas_y, label=\"P(x)\")\n"
   ]
  },
  {
   "cell_type": "code",
   "execution_count": 36,
   "id": "40368650",
   "metadata": {},
   "outputs": [
    {
     "data": {
      "text/plain": [
       "[<matplotlib.lines.Line2D at 0x7ff2c3018c70>]"
      ]
     },
     "execution_count": 36,
     "metadata": {},
     "output_type": "execute_result"
    },
    {
     "data": {
      "image/png": "[encoded data removed]",
      "text/plain": [
       "<Figure size 432x288 with 1 Axes>"
      ]
     },
     "metadata": {
      "needs_background": "light"
     },
     "output_type": "display_data"
    }
   ],
   "source": [
    "humid_mean = np.mean(df['Humidity'])\n",
    "humid_std = np.std(df['Humidity'])\n",
    "\n",
    "humid_x = np.linspace(humid_mean - 5 * humid_std, humid_mean + 5* humid_std, 100)\n",
    "humid_y = norm.pdf(humid_x, humid_mean, humid_std)\n",
    "\n",
    "\n",
    "plt.hist(df['Humidity'], density = True)\n",
    "plt.xlabel(\"Humidity\")\n",
    "plt.ylabel(\"Frequency\")\n",
    "plt.plot(humid_x, humid_y, label=\"P(x)\")\n"
   ]
  },
  {
   "cell_type": "code",
   "execution_count": 88,
   "id": "219457ce",
   "metadata": {},
   "outputs": [
    {
     "data": {
      "text/plain": [
       "[<matplotlib.lines.Line2D at 0x7ff2782177c0>]"
      ]
     },
     "execution_count": 88,
     "metadata": {},
     "output_type": "execute_result"
    },
    {
     "data": {
      "image/png": "[encoded data removed]",
      "text/plain": [
       "<Figure size 432x288 with 1 Axes>"
      ]
     },
     "metadata": {
      "needs_background": "light"
     },
     "output_type": "display_data"
    }
   ],
   "source": [
    "pressure_mean = np.mean(df['Pressure'])\n",
    "pressure_std = np.std(df['Pressure'])\n",
    "\n",
    "pressure_x = np.linspace(pressure_mean - 5 * pressure_std, pressure_mean + 5* pressure_std, 100)\n",
    "pressure_y = norm.pdf(pressure_x, pressure_mean, pressure_std)\n",
    "\n",
    "\n",
    "plt.hist(df['Pressure'], density = True)\n",
    "plt.xlabel(\"Pressure\")\n",
    "plt.ylabel(\"Frequency\")\n",
    "plt.plot(pressure_x, pressure_y, label=\"P(x)\")"
   ]
  },
  {
   "cell_type": "code",
   "execution_count": 89,
   "id": "1f25abe4",
   "metadata": {},
   "outputs": [
    {
     "data": {
      "text/plain": [
       "1012.4283545361208"
      ]
     },
     "execution_count": 89,
     "metadata": {},
     "output_type": "execute_result"
    }
   ],
   "source": [
    "pressure_mean"
   ]
  },
  {
   "cell_type": "code",
   "execution_count": 38,
   "id": "a515e732",
   "metadata": {},
   "outputs": [
    {
     "data": {
      "text/plain": [
       "[<matplotlib.lines.Line2D at 0x7ff2d74671c0>]"
      ]
     },
     "execution_count": 38,
     "metadata": {},
     "output_type": "execute_result"
    },
    {
     "data": {
      "image/png": "[encoded data removed]",
      "text/plain": [
       "<Figure size 432x288 with 1 Axes>"
      ]
     },
     "metadata": {
      "needs_background": "light"
     },
     "output_type": "display_data"
    }
   ],
   "source": [
    "alt_mean = np.mean(df['Altitude'])\n",
    "alt_std = np.std(df['Altitude'])\n",
    "\n",
    "alt_x = np.linspace(alt_mean - 5 * alt_std, alt_mean + 5* alt_std, 100)\n",
    "alt_y = norm.pdf(alt_x, alt_mean, alt_std)\n",
    "\n",
    "\n",
    "plt.hist(df['Altitude'], density = True)\n",
    "plt.xlabel(\"Altitude\")\n",
    "plt.ylabel(\"Frequency\")\n",
    "plt.plot(alt_x, alt_y, label=\"P(x)\")"
   ]
  },
  {
   "cell_type": "code",
   "execution_count": 41,
   "id": "beba59b2",
   "metadata": {},
   "outputs": [
    {
     "data": {
      "text/html": [
       "<div>\n",
       "<style scoped>\n",
       "    .dataframe tbody tr th:only-of-type {\n",
       "        vertical-align: middle;\n",
       "    }\n",
       "\n",
       "    .dataframe tbody tr th {\n",
       "        vertical-align: top;\n",
       "    }\n",
       "\n",
       "    .dataframe thead th {\n",
       "        text-align: right;\n",
       "    }\n",
       "</style>\n",
       "<table border=\"1\" class=\"dataframe\">\n",
       "  <thead>\n",
       "    <tr style=\"text-align: right;\">\n",
       "      <th></th>\n",
       "      <th>Timestamp</th>\n",
       "      <th>PM 1.0</th>\n",
       "      <th>PM 2.5</th>\n",
       "      <th>PM 10</th>\n",
       "      <th>Temperature</th>\n",
       "      <th>Gas</th>\n",
       "      <th>Humidity</th>\n",
       "      <th>Pressure</th>\n",
       "      <th>Altitude</th>\n",
       "    </tr>\n",
       "  </thead>\n",
       "  <tbody>\n",
       "    <tr>\n",
       "      <th>0</th>\n",
       "      <td>1.677107e+09</td>\n",
       "      <td>0</td>\n",
       "      <td>1</td>\n",
       "      <td>1</td>\n",
       "      <td>19.211641</td>\n",
       "      <td>30293</td>\n",
       "      <td>25.673435</td>\n",
       "      <td>997.334957</td>\n",
       "      <td>133.354272</td>\n",
       "    </tr>\n",
       "    <tr>\n",
       "      <th>1</th>\n",
       "      <td>1.677107e+09</td>\n",
       "      <td>0</td>\n",
       "      <td>1</td>\n",
       "      <td>1</td>\n",
       "      <td>19.234492</td>\n",
       "      <td>4024</td>\n",
       "      <td>25.659078</td>\n",
       "      <td>997.336787</td>\n",
       "      <td>133.338841</td>\n",
       "    </tr>\n",
       "    <tr>\n",
       "      <th>2</th>\n",
       "      <td>1.677107e+09</td>\n",
       "      <td>0</td>\n",
       "      <td>1</td>\n",
       "      <td>1</td>\n",
       "      <td>19.282539</td>\n",
       "      <td>5459</td>\n",
       "      <td>25.619883</td>\n",
       "      <td>997.354622</td>\n",
       "      <td>133.188436</td>\n",
       "    </tr>\n",
       "    <tr>\n",
       "      <th>3</th>\n",
       "      <td>1.677107e+09</td>\n",
       "      <td>0</td>\n",
       "      <td>1</td>\n",
       "      <td>1</td>\n",
       "      <td>19.329219</td>\n",
       "      <td>6931</td>\n",
       "      <td>25.564631</td>\n",
       "      <td>997.380281</td>\n",
       "      <td>132.972059</td>\n",
       "    </tr>\n",
       "    <tr>\n",
       "      <th>4</th>\n",
       "      <td>1.677107e+09</td>\n",
       "      <td>0</td>\n",
       "      <td>1</td>\n",
       "      <td>1</td>\n",
       "      <td>19.371016</td>\n",
       "      <td>8077</td>\n",
       "      <td>25.498409</td>\n",
       "      <td>997.419615</td>\n",
       "      <td>132.640368</td>\n",
       "    </tr>\n",
       "  </tbody>\n",
       "</table>\n",
       "</div>"
      ],
      "text/plain": [
       "      Timestamp  PM 1.0  PM 2.5  PM 10  Temperature    Gas   Humidity  \\\n",
       "0  1.677107e+09       0       1      1    19.211641  30293  25.673435   \n",
       "1  1.677107e+09       0       1      1    19.234492   4024  25.659078   \n",
       "2  1.677107e+09       0       1      1    19.282539   5459  25.619883   \n",
       "3  1.677107e+09       0       1      1    19.329219   6931  25.564631   \n",
       "4  1.677107e+09       0       1      1    19.371016   8077  25.498409   \n",
       "\n",
       "     Pressure    Altitude  \n",
       "0  997.334957  133.354272  \n",
       "1  997.336787  133.338841  \n",
       "2  997.354622  133.188436  \n",
       "3  997.380281  132.972059  \n",
       "4  997.419615  132.640368  "
      ]
     },
     "execution_count": 41,
     "metadata": {},
     "output_type": "execute_result"
    }
   ],
   "source": [
    "df2 = pd.read_csv(\"/Users/charliegu_1/Documents/GitHub/E11-ZhongGuo/outdoor_data\")\n",
    "df2.head()"
   ]
  },
  {
   "cell_type": "code",
   "execution_count": 46,
   "id": "40d4f017",
   "metadata": {},
   "outputs": [
    {
     "data": {
      "text/plain": [
       "[<matplotlib.lines.Line2D at 0x7ff2c347b2b0>]"
      ]
     },
     "execution_count": 46,
     "metadata": {},
     "output_type": "execute_result"
    },
    {
     "data": {
      "image/png": "[encoded data removed]",
      "text/plain": [
       "<Figure size 432x288 with 1 Axes>"
      ]
     },
     "metadata": {
      "needs_background": "light"
     },
     "output_type": "display_data"
    }
   ],
   "source": [
    "one_mean2 = np.mean(df2['PM 1.0'])\n",
    "one_std2 = np.std(df2['PM 1.0'])\n",
    "\n",
    "one_x2 = np.linspace(one_mean2 - 5 * one_std2, one_mean2 + 5* one_std2, 100)\n",
    "one_y2 = norm.pdf(one_x2, one_mean2, one_std2)\n",
    "\n",
    "plt.hist(df2['PM 1.0'], density = True)\n",
    "plt.xlabel(\"PM 1.0\")\n",
    "plt.ylabel(\"Frequency\")\n",
    "plt.plot(one_x2, one_y2, label=\"P(x)\")"
   ]
  },
  {
   "cell_type": "code",
   "execution_count": 47,
   "id": "367bf9ca",
   "metadata": {},
   "outputs": [
    {
     "data": {
      "text/plain": [
       "[<matplotlib.lines.Line2D at 0x7ff2d74d92b0>]"
      ]
     },
     "execution_count": 47,
     "metadata": {},
     "output_type": "execute_result"
    },
    {
     "data": {
      "image/png": "[encoded data removed]",
      "text/plain": [
       "<Figure size 432x288 with 1 Axes>"
      ]
     },
     "metadata": {
      "needs_background": "light"
     },
     "output_type": "display_data"
    }
   ],
   "source": [
    "mid_mean2 = np.mean(df2['PM 2.5'])\n",
    "mid_std2 = np.std(df2['PM 2.5'])\n",
    "\n",
    "mid_x2 = np.linspace(mid_mean2 - 5 * mid_std2, mid_mean2 + 5* mid_std2, 100)\n",
    "mid_y2 = norm.pdf(mid_x2, mid_mean2, mid_std2)\n",
    "\n",
    "plt.hist(df2['PM 2.5'], density = True)\n",
    "plt.xlabel(\"PM 2.5\")\n",
    "plt.ylabel(\"Frequency\")\n",
    "plt.plot(mid_x2, mid_y2, label=\"P(x)\")"
   ]
  },
  {
   "cell_type": "code",
   "execution_count": 48,
   "id": "d6b9f192",
   "metadata": {},
   "outputs": [
    {
     "data": {
      "text/plain": [
       "[<matplotlib.lines.Line2D at 0x7ff2d73ad400>]"
      ]
     },
     "execution_count": 48,
     "metadata": {},
     "output_type": "execute_result"
    },
    {
     "data": {
      "image/png": "[encoded data removed]",
      "text/plain": [
       "<Figure size 432x288 with 1 Axes>"
      ]
     },
     "metadata": {
      "needs_background": "light"
     },
     "output_type": "display_data"
    }
   ],
   "source": [
    "ten_mean2 = np.mean(df2['PM 10'])\n",
    "ten_std2 = np.std(df2['PM 10'])\n",
    "\n",
    "ten_x2 = np.linspace(ten_mean2 - 5 * ten_std2, ten_mean2 + 5* ten_std2, 100)\n",
    "ten_y2 = norm.pdf(ten_x2, ten_mean2, ten_std2)\n",
    "\n",
    "plt.hist(df2['PM 10'], density = True)\n",
    "plt.xlabel(\"PM 10\")\n",
    "plt.ylabel(\"Frequency\")\n",
    "plt.plot(ten_x2, ten_y2, label=\"P(x)\")"
   ]
  },
  {
   "cell_type": "code",
   "execution_count": 49,
   "id": "d894dbd9",
   "metadata": {},
   "outputs": [
    {
     "data": {
      "text/plain": [
       "[<matplotlib.lines.Line2D at 0x7ff2d705deb0>]"
      ]
     },
     "execution_count": 49,
     "metadata": {},
     "output_type": "execute_result"
    },
    {
     "data": {
      "image/png": "[encoded data removed]",
      "text/plain": [
       "<Figure size 432x288 with 1 Axes>"
      ]
     },
     "metadata": {
      "needs_background": "light"
     },
     "output_type": "display_data"
    }
   ],
   "source": [
    "temp_mean2 = np.mean(df2['Temperature'])\n",
    "temp_std2 = np.std(df2['Temperature'])\n",
    "\n",
    "temp_x2 = np.linspace(temp_mean2 - 5 * temp_std2, temp_mean2 + 5* temp_std2, 100)\n",
    "temp_y2 = norm.pdf(temp_x2, temp_mean2, temp_std2)\n",
    "\n",
    "\n",
    "plt.hist(df2['Temperature'], density = True)\n",
    "plt.xlabel(\"Temperature\")\n",
    "plt.ylabel(\"Frequency\")\n",
    "plt.plot(temp_x2, temp_y2, label=\"P(x)\")"
   ]
  },
  {
   "cell_type": "code",
   "execution_count": 50,
   "id": "2af433bb",
   "metadata": {},
   "outputs": [
    {
     "data": {
      "text/plain": [
       "[<matplotlib.lines.Line2D at 0x7ff2d771a9a0>]"
      ]
     },
     "execution_count": 50,
     "metadata": {},
     "output_type": "execute_result"
    },
    {
     "data": {
      "image/png": "[encoded data removed]",
      "text/plain": [
       "<Figure size 432x288 with 1 Axes>"
      ]
     },
     "metadata": {
      "needs_background": "light"
     },
     "output_type": "display_data"
    }
   ],
   "source": [
    "gas_mean2 = np.mean(df2['Gas'])\n",
    "gas_std2 = np.std(df2['Gas'])\n",
    "\n",
    "gas_x2 = np.linspace(gas_mean2 - 5 * gas_std2, gas_mean2 + 5* gas_std2, 100)\n",
    "gas_y2 = norm.pdf(gas_x2, gas_mean2, gas_std2)\n",
    "\n",
    "\n",
    "plt.hist(df2['Gas'], density = True)\n",
    "plt.xlabel(\"Gas\")\n",
    "plt.ylabel(\"Frequency\")\n",
    "plt.plot(gas_x2, gas_y2, label=\"P(x)\")"
   ]
  },
  {
   "cell_type": "code",
   "execution_count": 51,
   "id": "a7fcbdf9",
   "metadata": {},
   "outputs": [
    {
     "data": {
      "text/plain": [
       "[<matplotlib.lines.Line2D at 0x7ff2d71064f0>]"
      ]
     },
     "execution_count": 51,
     "metadata": {},
     "output_type": "execute_result"
    },
    {
     "data": {
      "image/png": "[encoded data removed]",
      "text/plain": [
       "<Figure size 432x288 with 1 Axes>"
      ]
     },
     "metadata": {
      "needs_background": "light"
     },
     "output_type": "display_data"
    }
   ],
   "source": [
    "humid_mean2 = np.mean(df2['Humidity'])\n",
    "humid_std2 = np.std(df2['Humidity'])\n",
    "\n",
    "humid_x2 = np.linspace(humid_mean2 - 5 * humid_std2, humid_mean2 + 5* humid_std2, 100)\n",
    "humid_y2 = norm.pdf(humid_x2, humid_mean2, humid_std2)\n",
    "\n",
    "\n",
    "plt.hist(df2['Humidity'], density = True)\n",
    "plt.xlabel(\"Humidity\")\n",
    "plt.ylabel(\"Frequency\")\n",
    "plt.plot(humid_x2, humid_y2, label=\"P(x)\")\n"
   ]
  },
  {
   "cell_type": "code",
   "execution_count": 52,
   "id": "e2ea105b",
   "metadata": {},
   "outputs": [
    {
     "data": {
      "text/plain": [
       "[<matplotlib.lines.Line2D at 0x7ff2d6e706a0>]"
      ]
     },
     "execution_count": 52,
     "metadata": {},
     "output_type": "execute_result"
    },
    {
     "data": {
      "image/png": "[encoded data removed]",
      "text/plain": [
       "<Figure size 432x288 with 1 Axes>"
      ]
     },
     "metadata": {
      "needs_background": "light"
     },
     "output_type": "display_data"
    }
   ],
   "source": [
    "pressure_mean2 = np.mean(df2['Pressure'])\n",
    "pressure_std2 = np.std(df2['Pressure'])\n",
    "\n",
    "pressure_x2 = np.linspace(pressure_mean2 - 5 * pressure_std2, pressure_mean2 + 5* pressure_std2, 100)\n",
    "pressure_y2 = norm.pdf(pressure_x2, pressure_mean2, pressure_std2)\n",
    "\n",
    "\n",
    "plt.hist(df2['Pressure'], density = True)\n",
    "plt.xlabel(\"Pressure\")\n",
    "plt.ylabel(\"Frequency\")\n",
    "plt.plot(pressure_x2, pressure_y2, label=\"P(x)\")"
   ]
  },
  {
   "cell_type": "code",
   "execution_count": 71,
   "id": "40d64cf6",
   "metadata": {},
   "outputs": [
    {
     "data": {
      "text/plain": [
       "[<matplotlib.lines.Line2D at 0x7ff2c377aaf0>]"
      ]
     },
     "execution_count": 71,
     "metadata": {},
     "output_type": "execute_result"
    },
    {
     "data": {
      "image/png": "[encoded data removed]",
      "text/plain": [
       "<Figure size 432x288 with 1 Axes>"
      ]
     },
     "metadata": {
      "needs_background": "light"
     },
     "output_type": "display_data"
    }
   ],
   "source": [
    "alt_mean2 = np.mean(df2['Altitude'])\n",
    "alt_std2 = np.std(df2['Altitude'])\n",
    "\n",
    "alt_x2 = np.linspace(alt_mean2 - 5 * alt_std2, alt_mean2 + 5* alt_std2, 100)\n",
    "alt_y2 = norm.pdf(alt_x2, alt_mean2, alt_std2)\n",
    "\n",
    "\n",
    "plt.hist(df2['Altitude'], density = True)\n",
    "plt.xlabel(\"Altitude\")\n",
    "plt.ylabel(\"Frequency\")\n",
    "plt.plot(alt_x2, alt_y2, label=\"P(x)\")"
   ]
  },
  {
   "cell_type": "markdown",
   "id": "ac2003c1",
   "metadata": {},
   "source": [
    "Plots with both indoor and outdoor"
   ]
  },
  {
   "cell_type": "code",
   "execution_count": 74,
   "id": "0e2b80a1",
   "metadata": {},
   "outputs": [
    {
     "data": {
      "text/plain": [
       "[<matplotlib.lines.Line2D at 0x7ff2d6991220>]"
      ]
     },
     "execution_count": 74,
     "metadata": {},
     "output_type": "execute_result"
    },
    {
     "data": {
      "image/png": "[encoded data removed]",
      "text/plain": [
       "<Figure size 432x288 with 1 Axes>"
      ]
     },
     "metadata": {
      "needs_background": "light"
     },
     "output_type": "display_data"
    }
   ],
   "source": [
    "plt.hist(df['PM 1.0'], density = True)\n",
    "plt.xlabel(\"PM 1.0\")\n",
    "plt.ylabel(\"Frequency\")\n",
    "plt.plot(one_x, one_y, label=\"P(x)\")\n",
    "\n",
    "plt.hist(df2['PM 1.0'], density = True)\n",
    "plt.xlabel(\"PM 1.0\")\n",
    "plt.ylabel(\"Frequency\")\n",
    "plt.plot(one_x2, one_y2, label=\"P(x)\")"
   ]
  },
  {
   "cell_type": "code",
   "execution_count": 76,
   "id": "c0b881b9",
   "metadata": {},
   "outputs": [
    {
     "data": {
      "text/plain": [
       "[<matplotlib.lines.Line2D at 0x7ff2d6d2bf40>]"
      ]
     },
     "execution_count": 76,
     "metadata": {},
     "output_type": "execute_result"
    },
    {
     "data": {
      "image/png": "[encoded data removed]",
      "text/plain": [
       "<Figure size 432x288 with 1 Axes>"
      ]
     },
     "metadata": {
      "needs_background": "light"
     },
     "output_type": "display_data"
    }
   ],
   "source": [
    "plt.hist(df['PM 2.5'], density = True)\n",
    "plt.xlabel(\"PM 2.5\")\n",
    "plt.ylabel(\"Frequency\")\n",
    "plt.plot(mid_x, mid_y, label=\"P(x)\")\n",
    "\n",
    "plt.hist(df2['PM 2.5'], density = True)\n",
    "plt.xlabel(\"PM 2.5\")\n",
    "plt.ylabel(\"Frequency\")\n",
    "plt.plot(mid_x2, mid_y2, label=\"P(x)\")"
   ]
  },
  {
   "cell_type": "code",
   "execution_count": 78,
   "id": "0a5a1301",
   "metadata": {},
   "outputs": [
    {
     "data": {
      "text/plain": [
       "[<matplotlib.lines.Line2D at 0x7ff2c37e54c0>]"
      ]
     },
     "execution_count": 78,
     "metadata": {},
     "output_type": "execute_result"
    },
    {
     "data": {
      "image/png": "[encoded data removed]",
      "text/plain": [
       "<Figure size 432x288 with 1 Axes>"
      ]
     },
     "metadata": {
      "needs_background": "light"
     },
     "output_type": "display_data"
    }
   ],
   "source": [
    "plt.hist(df['PM 10'], density = True)\n",
    "plt.xlabel(\"PM 10\")\n",
    "plt.ylabel(\"Frequency\")\n",
    "plt.plot(ten_x, ten_y, label=\"P(x)\")\n",
    "\n",
    "plt.hist(df2['PM 10'], density = True)\n",
    "plt.xlabel(\"PM 10\")\n",
    "plt.ylabel(\"Frequency\")\n",
    "plt.plot(ten_x2, ten_y2, label=\"P(x)\")"
   ]
  },
  {
   "cell_type": "code",
   "execution_count": 80,
   "id": "4f15fe97",
   "metadata": {},
   "outputs": [
    {
     "data": {
      "text/plain": [
       "[<matplotlib.lines.Line2D at 0x7ff2d72e83d0>]"
      ]
     },
     "execution_count": 80,
     "metadata": {},
     "output_type": "execute_result"
    },
    {
     "data": {
      "image/png": "[encoded data removed]",
      "text/plain": [
       "<Figure size 432x288 with 1 Axes>"
      ]
     },
     "metadata": {
      "needs_background": "light"
     },
     "output_type": "display_data"
    }
   ],
   "source": [
    "plt.hist(df['Temperature'], density = True)\n",
    "plt.xlabel(\"Temperature\")\n",
    "plt.ylabel(\"Frequency\")\n",
    "plt.plot(temp_x, temp_y, label=\"P(x)\")\n",
    "\n",
    "plt.hist(df2['Temperature'], density = True)\n",
    "plt.xlabel(\"Temperature\")\n",
    "plt.ylabel(\"Frequency\")\n",
    "plt.plot(temp_x2, temp_y2, label=\"P(x)\")"
   ]
  },
  {
   "cell_type": "code",
   "execution_count": 82,
   "id": "c155f575",
   "metadata": {},
   "outputs": [
    {
     "data": {
      "text/plain": [
       "[<matplotlib.lines.Line2D at 0x7ff2d6c9d850>]"
      ]
     },
     "execution_count": 82,
     "metadata": {},
     "output_type": "execute_result"
    },
    {
     "data": {
      "image/png": "[encoded data removed]",
      "text/plain": [
       "<Figure size 432x288 with 1 Axes>"
      ]
     },
     "metadata": {
      "needs_background": "light"
     },
     "output_type": "display_data"
    }
   ],
   "source": [
    "plt.hist(df['Gas'], density = True)\n",
    "plt.xlabel(\"Gas\")\n",
    "plt.ylabel(\"Frequency\")\n",
    "plt.plot(gas_x, gas_y, label=\"P(x)\")\n",
    "\n",
    "plt.hist(df2['Gas'], density = True)\n",
    "plt.xlabel(\"Gas\")\n",
    "plt.ylabel(\"Frequency\")\n",
    "plt.plot(gas_x2, gas_y2, label=\"P(x)\")"
   ]
  },
  {
   "cell_type": "code",
   "execution_count": 84,
   "id": "f0122888",
   "metadata": {},
   "outputs": [
    {
     "data": {
      "text/plain": [
       "[<matplotlib.lines.Line2D at 0x7ff2781d7610>]"
      ]
     },
     "execution_count": 84,
     "metadata": {},
     "output_type": "execute_result"
    },
    {
     "data": {
      "image/png": "[encoded data removed]",
      "text/plain": [
       "<Figure size 432x288 with 1 Axes>"
      ]
     },
     "metadata": {
      "needs_background": "light"
     },
     "output_type": "display_data"
    }
   ],
   "source": [
    "plt.hist(df['Humidity'], density = True)\n",
    "plt.xlabel(\"Humidity\")\n",
    "plt.ylabel(\"Frequency\")\n",
    "plt.plot(humid_x, humid_y, label=\"P(x)\")\n",
    "\n",
    "plt.hist(df2['Humidity'], density = True)\n",
    "plt.xlabel(\"Humidity\")\n",
    "plt.ylabel(\"Frequency\")\n",
    "plt.plot(humid_x2, humid_y2, label=\"P(x)\")\n"
   ]
  },
  {
   "cell_type": "code",
   "execution_count": 90,
   "id": "b7fa0a53",
   "metadata": {},
   "outputs": [
    {
     "data": {
      "text/plain": [
       "[<matplotlib.lines.Line2D at 0x7ff2d7ff0a30>]"
      ]
     },
     "execution_count": 90,
     "metadata": {},
     "output_type": "execute_result"
    },
    {
     "data": {
      "image/png": "[encoded data removed]",
      "text/plain": [
       "<Figure size 432x288 with 1 Axes>"
      ]
     },
     "metadata": {
      "needs_background": "light"
     },
     "output_type": "display_data"
    }
   ],
   "source": [
    "plt.hist(df['Pressure'], density = True)\n",
    "plt.xlabel(\"Pressure\")\n",
    "plt.ylabel(\"Frequency\")\n",
    "plt.plot(pressure_x, pressure_y, label=\"P(x)\")\n",
    "\n",
    "plt.hist(df2['Pressure'], density = True)\n",
    "plt.xlabel(\"Pressure\")\n",
    "plt.ylabel(\"Frequency\")\n",
    "plt.plot(pressure_x2, pressure_y2, label=\"P(x)\")"
   ]
  },
  {
   "cell_type": "code",
   "execution_count": 92,
   "id": "3b1f28b3",
   "metadata": {},
   "outputs": [
    {
     "data": {
      "text/plain": [
       "[<matplotlib.lines.Line2D at 0x7ff2703c1d60>]"
      ]
     },
     "execution_count": 92,
     "metadata": {},
     "output_type": "execute_result"
    },
    {
     "data": {
      "image/png": "[encoded data removed]",
      "text/plain": [
       "<Figure size 432x288 with 1 Axes>"
      ]
     },
     "metadata": {
      "needs_background": "light"
     },
     "output_type": "display_data"
    }
   ],
   "source": [
    "plt.hist(df['Altitude'], density = True)\n",
    "plt.xlabel(\"Altitude\")\n",
    "plt.ylabel(\"Frequency\")\n",
    "plt.plot(alt_x, alt_y, label=\"P(x)\")\n",
    "\n",
    "plt.hist(df2['Altitude'], density = True)\n",
    "plt.xlabel(\"Altitude\")\n",
    "plt.ylabel(\"Frequency\")\n",
    "plt.plot(alt_x2, alt_y2, label=\"P(x)\")"
   ]
  },
  {
   "cell_type": "markdown",
   "id": "2db2511c",
   "metadata": {},
   "source": [
    "Comparing means of both"
   ]
  },
  {
   "cell_type": "code",
   "execution_count": 56,
   "id": "fc570958",
   "metadata": {},
   "outputs": [
    {
     "name": "stdout",
     "output_type": "stream",
     "text": [
      "0.0\n",
      "0.19123505976095617\n"
     ]
    }
   ],
   "source": [
    "print(one_mean)\n",
    "print(one_mean2)"
   ]
  },
  {
   "cell_type": "code",
   "execution_count": 58,
   "id": "9945f1eb",
   "metadata": {},
   "outputs": [
    {
     "name": "stdout",
     "output_type": "stream",
     "text": [
      "0.0\n",
      "1.0079681274900398\n"
     ]
    }
   ],
   "source": [
    "print(mid_mean)\n",
    "print(mid_mean2)"
   ]
  },
  {
   "cell_type": "code",
   "execution_count": 60,
   "id": "37aed753",
   "metadata": {},
   "outputs": [
    {
     "name": "stdout",
     "output_type": "stream",
     "text": [
      "0.06772908366533864\n",
      "1.2589641434262948\n"
     ]
    }
   ],
   "source": [
    "print(ten_mean)\n",
    "print(ten_mean2)"
   ]
  },
  {
   "cell_type": "code",
   "execution_count": 62,
   "id": "450c6ebc",
   "metadata": {},
   "outputs": [
    {
     "name": "stdout",
     "output_type": "stream",
     "text": [
      "23.064017834910338\n",
      "16.19033833416336\n"
     ]
    }
   ],
   "source": [
    "print(temp_mean)\n",
    "print(temp_mean2)"
   ]
  },
  {
   "cell_type": "code",
   "execution_count": 65,
   "id": "c6cf7591",
   "metadata": {},
   "outputs": [
    {
     "name": "stdout",
     "output_type": "stream",
     "text": [
      "34611.6015936255\n",
      "33118.01992031872\n"
     ]
    }
   ],
   "source": [
    "print(gas_mean)\n",
    "print(gas_mean2)"
   ]
  },
  {
   "cell_type": "code",
   "execution_count": 67,
   "id": "009e092c",
   "metadata": {},
   "outputs": [
    {
     "name": "stdout",
     "output_type": "stream",
     "text": [
      "19.254105973706952\n",
      "27.1528305908784\n"
     ]
    }
   ],
   "source": [
    "print(humid_mean)\n",
    "print(humid_mean2)"
   ]
  },
  {
   "cell_type": "code",
   "execution_count": 69,
   "id": "acff1360",
   "metadata": {},
   "outputs": [
    {
     "name": "stdout",
     "output_type": "stream",
     "text": [
      "1012.4283545361208\n",
      "997.2423015435496\n"
     ]
    }
   ],
   "source": [
    "print(pressure_mean)\n",
    "print(pressure_mean2)"
   ]
  },
  {
   "cell_type": "code",
   "execution_count": 96,
   "id": "446a6f84",
   "metadata": {},
   "outputs": [
    {
     "name": "stdout",
     "output_type": "stream",
     "text": [
      "6.843007813787415\n",
      "134.13649892555483\n"
     ]
    }
   ],
   "source": [
    "print(alt_mean)\n",
    "print(alt_mean2)"
   ]
  },
  {
   "cell_type": "markdown",
   "id": "71145e4e",
   "metadata": {},
   "source": [
    "It is likely that we took enough measurements for the CLT to apply, since there are upwards of 250 observations and the CLT requires 30 measurements. "
   ]
  },
  {
   "cell_type": "code",
   "execution_count": null,
   "id": "783bdf60",
   "metadata": {},
   "outputs": [],
   "source": []
  }
 ],
 "metadata": {
  "kernelspec": {
   "display_name": "Python 3 (ipykernel)",
   "language": "python",
   "name": "python3"
  },
  "language_info": {
   "codemirror_mode": {
    "name": "ipython",
    "version": 3
   },
   "file_extension": ".py",
   "mimetype": "text/x-python",
   "name": "python",
   "nbconvert_exporter": "python",
   "pygments_lexer": "ipython3",
   "version": "3.9.12"
  }
 },
 "nbformat": 4,
 "nbformat_minor": 5
}
