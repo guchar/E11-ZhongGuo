{
 "cells": [
  {
   "cell_type": "code",
   "execution_count": 1,
   "id": "49e1e071",
   "metadata": {},
   "outputs": [],
   "source": [
    "import numpy as np\n",
    "import pandas as pd\n",
    "import matplotlib.pyplot as plt \n",
    "import seaborn as sns"
   ]
  },
  {
   "cell_type": "code",
   "execution_count": 91,
   "id": "aa2d776a",
   "metadata": {},
   "outputs": [],
   "source": [
    "etch = '/Users/charliegu_1/Documents/GitHub/E11-ZhongGuo/etch-soda data.csv'\n",
    "unit3 = '/Users/charliegu_1/Documents/GitHub/E11-ZhongGuo/unit3.csv'\n",
    "rsf = '/Users/charliegu_1/Documents/GitHub/E11-ZhongGuo/rsf_3.csv'\n",
    "glade = '/Users/charliegu_1/Documents/GitHub/E11-ZhongGuo/glade data.csv'\n",
    "\n",
    "etch_data = pd.read_csv(etch)\n",
    "unit3_data = pd.read_csv(unit3)\n",
    "rsf_data = pd.read_csv(rsf)\n",
    "glade_data = pd.read_csv(glade)"
   ]
  },
  {
   "cell_type": "code",
   "execution_count": 92,
   "id": "035a443f",
   "metadata": {},
   "outputs": [
    {
     "data": {
      "text/html": [
       "<div>\n",
       "<style scoped>\n",
       "    .dataframe tbody tr th:only-of-type {\n",
       "        vertical-align: middle;\n",
       "    }\n",
       "\n",
       "    .dataframe tbody tr th {\n",
       "        vertical-align: top;\n",
       "    }\n",
       "\n",
       "    .dataframe thead th {\n",
       "        text-align: right;\n",
       "    }\n",
       "</style>\n",
       "<table border=\"1\" class=\"dataframe\">\n",
       "  <thead>\n",
       "    <tr style=\"text-align: right;\">\n",
       "      <th></th>\n",
       "      <th>\\tEpoch time</th>\n",
       "      <th>Latitude</th>\n",
       "      <th>Longitude</th>\n",
       "      <th>Radiation (cps)`\\t\\t\\t\\t\\t\\t\\t\\t\\t\\t\\t\\t\\t\\t\\t\\t\\t\\t</th>\n",
       "    </tr>\n",
       "  </thead>\n",
       "  <tbody>\n",
       "    <tr>\n",
       "      <th>0</th>\n",
       "      <td>1.682546e+09</td>\n",
       "      <td>37.875344</td>\n",
       "      <td>-122.258896</td>\n",
       "      <td>36.0</td>\n",
       "    </tr>\n",
       "    <tr>\n",
       "      <th>1</th>\n",
       "      <td>1.682546e+09</td>\n",
       "      <td>37.875343</td>\n",
       "      <td>-122.258900</td>\n",
       "      <td>36.4</td>\n",
       "    </tr>\n",
       "    <tr>\n",
       "      <th>2</th>\n",
       "      <td>1.682546e+09</td>\n",
       "      <td>37.875341</td>\n",
       "      <td>-122.258908</td>\n",
       "      <td>41.8</td>\n",
       "    </tr>\n",
       "    <tr>\n",
       "      <th>3</th>\n",
       "      <td>1.682546e+09</td>\n",
       "      <td>37.875333</td>\n",
       "      <td>-122.258918</td>\n",
       "      <td>35.6</td>\n",
       "    </tr>\n",
       "    <tr>\n",
       "      <th>4</th>\n",
       "      <td>1.682546e+09</td>\n",
       "      <td>37.875348</td>\n",
       "      <td>-122.258905</td>\n",
       "      <td>34.2</td>\n",
       "    </tr>\n",
       "  </tbody>\n",
       "</table>\n",
       "</div>"
      ],
      "text/plain": [
       "   \\tEpoch time   Latitude   Longitude  \\\n",
       "0  1.682546e+09  37.875344 -122.258896   \n",
       "1  1.682546e+09  37.875343 -122.258900   \n",
       "2  1.682546e+09  37.875341 -122.258908   \n",
       "3  1.682546e+09  37.875333 -122.258918   \n",
       "4  1.682546e+09  37.875348 -122.258905   \n",
       "\n",
       "   Radiation (cps)`\\t\\t\\t\\t\\t\\t\\t\\t\\t\\t\\t\\t\\t\\t\\t\\t\\t\\t  \n",
       "0                                               36.0     \n",
       "1                                               36.4     \n",
       "2                                               41.8     \n",
       "3                                               35.6     \n",
       "4                                               34.2     "
      ]
     },
     "execution_count": 92,
     "metadata": {},
     "output_type": "execute_result"
    }
   ],
   "source": [
    "etch_data.head()"
   ]
  },
  {
   "cell_type": "code",
   "execution_count": 89,
   "id": "825c08fa",
   "metadata": {},
   "outputs": [],
   "source": [
    "etch_data.rename(columns = {'Radiation (cps)`\\t\\t\\t\\t\\t\\t\\t\\t\\t\\t\\t\\t\\t\\t\\t\\t\\t\\t': 'Radiation'}, inplace = True)"
   ]
  },
  {
   "cell_type": "code",
   "execution_count": 93,
   "id": "54a1e095",
   "metadata": {},
   "outputs": [],
   "source": [
    "unit3_data.rename(columns = {'Radiation (cps)`\\t\\t\\t\\t\\t\\t\\t\\t\\t\\t\\t\\t\\t\\t\\t\\t\\t\\t': 'Radiation'}, inplace = True)"
   ]
  },
  {
   "cell_type": "code",
   "execution_count": 6,
   "id": "1d5008e1",
   "metadata": {},
   "outputs": [],
   "source": [
    "rsf_data.rename(columns = {'Radiation (cps)`\\t\\t\\t\\t\\t\\t\\t\\t\\t\\t\\t\\t\\t\\t\\t\\t\\t\\t': 'Radiation'}, inplace = True)"
   ]
  },
  {
   "cell_type": "code",
   "execution_count": 7,
   "id": "f4750394",
   "metadata": {},
   "outputs": [],
   "source": [
    "glade_data.rename(columns = {'Radiation (cps)`\\t\\t\\t\\t\\t\\t\\t\\t\\t\\t\\t\\t\\t\\t\\t\\t\\t\\t': 'Radiation'}, inplace = True)"
   ]
  },
  {
   "cell_type": "markdown",
   "id": "9a7d830a",
   "metadata": {},
   "source": [
    "## Etcheverry Data"
   ]
  },
  {
   "cell_type": "code",
   "execution_count": 68,
   "id": "86b65386",
   "metadata": {},
   "outputs": [
    {
     "name": "stdout",
     "output_type": "stream",
     "text": [
      "35.473417721519\n",
      "4.045913064859386\n"
     ]
    }
   ],
   "source": [
    "etch_mean = etch_data['Radiation'].mean()\n",
    "etch_std = etch_data['Radiation'].std()\n",
    "\n",
    "print(etch_mean)\n",
    "print(etch_std)"
   ]
  },
  {
   "cell_type": "code",
   "execution_count": 9,
   "id": "26c61517",
   "metadata": {},
   "outputs": [
    {
     "data": {
      "text/html": [
       "<div>\n",
       "<style scoped>\n",
       "    .dataframe tbody tr th:only-of-type {\n",
       "        vertical-align: middle;\n",
       "    }\n",
       "\n",
       "    .dataframe tbody tr th {\n",
       "        vertical-align: top;\n",
       "    }\n",
       "\n",
       "    .dataframe thead th {\n",
       "        text-align: right;\n",
       "    }\n",
       "</style>\n",
       "<table border=\"1\" class=\"dataframe\">\n",
       "  <thead>\n",
       "    <tr style=\"text-align: right;\">\n",
       "      <th></th>\n",
       "      <th>\\tEpoch time</th>\n",
       "      <th>Latitude</th>\n",
       "      <th>Longitude</th>\n",
       "      <th>Radiation</th>\n",
       "    </tr>\n",
       "  </thead>\n",
       "  <tbody>\n",
       "    <tr>\n",
       "      <th>0</th>\n",
       "      <td>1.682546e+09</td>\n",
       "      <td>37.875344</td>\n",
       "      <td>-122.258896</td>\n",
       "      <td>36.0</td>\n",
       "    </tr>\n",
       "    <tr>\n",
       "      <th>1</th>\n",
       "      <td>1.682546e+09</td>\n",
       "      <td>37.875343</td>\n",
       "      <td>-122.258900</td>\n",
       "      <td>36.4</td>\n",
       "    </tr>\n",
       "    <tr>\n",
       "      <th>2</th>\n",
       "      <td>1.682546e+09</td>\n",
       "      <td>37.875341</td>\n",
       "      <td>-122.258908</td>\n",
       "      <td>41.8</td>\n",
       "    </tr>\n",
       "    <tr>\n",
       "      <th>3</th>\n",
       "      <td>1.682546e+09</td>\n",
       "      <td>37.875333</td>\n",
       "      <td>-122.258918</td>\n",
       "      <td>35.6</td>\n",
       "    </tr>\n",
       "    <tr>\n",
       "      <th>4</th>\n",
       "      <td>1.682546e+09</td>\n",
       "      <td>37.875348</td>\n",
       "      <td>-122.258905</td>\n",
       "      <td>34.2</td>\n",
       "    </tr>\n",
       "  </tbody>\n",
       "</table>\n",
       "</div>"
      ],
      "text/plain": [
       "   \\tEpoch time   Latitude   Longitude  Radiation\n",
       "0  1.682546e+09  37.875344 -122.258896       36.0\n",
       "1  1.682546e+09  37.875343 -122.258900       36.4\n",
       "2  1.682546e+09  37.875341 -122.258908       41.8\n",
       "3  1.682546e+09  37.875333 -122.258918       35.6\n",
       "4  1.682546e+09  37.875348 -122.258905       34.2"
      ]
     },
     "execution_count": 9,
     "metadata": {},
     "output_type": "execute_result"
    }
   ],
   "source": [
    "etch_data.head()"
   ]
  },
  {
   "cell_type": "code",
   "execution_count": 10,
   "id": "e23a2064",
   "metadata": {},
   "outputs": [
    {
     "data": {
      "image/png": "[encoded data removed]",
      "text/plain": [
       "<Figure size 432x288 with 1 Axes>"
      ]
     },
     "metadata": {
      "needs_background": "light"
     },
     "output_type": "display_data"
    }
   ],
   "source": [
    "plt.scatter(x = etch_data['Latitude'], y = etch_data['Longitude'])\n",
    "plt.show()"
   ]
  },
  {
   "cell_type": "code",
   "execution_count": 24,
   "id": "15256c5b",
   "metadata": {},
   "outputs": [
    {
     "data": {
      "image/png": "[encoded data removed]",
      "text/plain": [
       "<Figure size 432x288 with 1 Axes>"
      ]
     },
     "metadata": {
      "needs_background": "light"
     },
     "output_type": "display_data"
    }
   ],
   "source": [
    "plt.hist(etch_data['Radiation'])\n",
    "\n",
    "plt.ylabel('Radiation (cps)')\n",
    "\n",
    "plt.show()"
   ]
  },
  {
   "cell_type": "markdown",
   "id": "ed7e1e39",
   "metadata": {},
   "source": [
    "## Unit 3 Data"
   ]
  },
  {
   "cell_type": "code",
   "execution_count": 94,
   "id": "26898a53",
   "metadata": {},
   "outputs": [
    {
     "name": "stdout",
     "output_type": "stream",
     "text": [
      "37.227522935779824\n",
      "3.096170620467024\n"
     ]
    }
   ],
   "source": [
    "unit3_mean = unit3_data['Radiation (cps)'].mean()\n",
    "unit3_std = unit3_data['Radiation (cps)'].std()\n",
    "\n",
    "print(unit3_mean)\n",
    "print(unit3_std)"
   ]
  },
  {
   "cell_type": "code",
   "execution_count": 13,
   "id": "e607b644",
   "metadata": {},
   "outputs": [
    {
     "data": {
      "image/png": "[encoded data removed]",
      "text/plain": [
       "<Figure size 432x288 with 1 Axes>"
      ]
     },
     "metadata": {
      "needs_background": "light"
     },
     "output_type": "display_data"
    }
   ],
   "source": [
    "plt.scatter(x = unit3_data['Latitude'], y = unit3_data['Longitude'])\n",
    "plt.show()"
   ]
  },
  {
   "cell_type": "code",
   "execution_count": 14,
   "id": "384a6d74",
   "metadata": {},
   "outputs": [
    {
     "data": {
      "image/png": "[encoded data removed]",
      "text/plain": [
       "<Figure size 432x288 with 1 Axes>"
      ]
     },
     "metadata": {
      "needs_background": "light"
     },
     "output_type": "display_data"
    }
   ],
   "source": [
    "plt.hist(unit3_data['Radiation (cps)'])\n",
    "\n",
    "plt.ylabel('Radiation (cps)')\n",
    "\n",
    "plt.show()"
   ]
  },
  {
   "cell_type": "markdown",
   "id": "c1d332b0",
   "metadata": {},
   "source": [
    "## RSF Data"
   ]
  },
  {
   "cell_type": "code",
   "execution_count": 15,
   "id": "f15c6d32",
   "metadata": {},
   "outputs": [
    {
     "name": "stdout",
     "output_type": "stream",
     "text": [
      "30.717757009345796\n",
      "2.48010244326273\n"
     ]
    }
   ],
   "source": [
    "rsf_mean = rsf_data['Radiation (cps)'].mean()\n",
    "rsf_std = rsf_data['Radiation (cps)'].std()\n",
    "\n",
    "print(rsf_mean)\n",
    "print(rsf_std)"
   ]
  },
  {
   "cell_type": "code",
   "execution_count": 16,
   "id": "2b50f8ac",
   "metadata": {},
   "outputs": [
    {
     "data": {
      "image/png": "[encoded data removed]",
      "text/plain": [
       "<Figure size 432x288 with 1 Axes>"
      ]
     },
     "metadata": {
      "needs_background": "light"
     },
     "output_type": "display_data"
    }
   ],
   "source": [
    "plt.scatter(x = rsf_data['Latitude'], y = rsf_data['Longitude'])\n",
    "plt.show()"
   ]
  },
  {
   "cell_type": "code",
   "execution_count": 17,
   "id": "b677f4a3",
   "metadata": {},
   "outputs": [
    {
     "data": {
      "image/png": "[encoded data removed]",
      "text/plain": [
       "<Figure size 432x288 with 1 Axes>"
      ]
     },
     "metadata": {
      "needs_background": "light"
     },
     "output_type": "display_data"
    }
   ],
   "source": [
    "plt.hist(rsf_data['Radiation (cps)'])\n",
    "\n",
    "plt.ylabel('Radiation (cps)')\n",
    "\n",
    "plt.show()"
   ]
  },
  {
   "cell_type": "markdown",
   "id": "8c933ae3",
   "metadata": {},
   "source": [
    "## Glade Data"
   ]
  },
  {
   "cell_type": "code",
   "execution_count": 18,
   "id": "4caf3e93",
   "metadata": {},
   "outputs": [
    {
     "name": "stdout",
     "output_type": "stream",
     "text": [
      "46.7088888888889\n",
      "3.0513450504210575\n"
     ]
    }
   ],
   "source": [
    "glade_mean = glade_data['Radiation (cps)'].mean()\n",
    "glade_std = glade_data['Radiation (cps)'].std()\n",
    "\n",
    "print(glade_mean)\n",
    "print(glade_std)"
   ]
  },
  {
   "cell_type": "code",
   "execution_count": 19,
   "id": "fd09a1f8",
   "metadata": {},
   "outputs": [
    {
     "data": {
      "image/png": "[encoded data removed]",
      "text/plain": [
       "<Figure size 432x288 with 1 Axes>"
      ]
     },
     "metadata": {
      "needs_background": "light"
     },
     "output_type": "display_data"
    }
   ],
   "source": [
    "plt.scatter(x = glade_data['Latitude'], y = glade_data['Longitude'])\n",
    "plt.show()"
   ]
  },
  {
   "cell_type": "code",
   "execution_count": 20,
   "id": "a87ee2df",
   "metadata": {},
   "outputs": [
    {
     "data": {
      "image/png": "[encoded data removed]",
      "text/plain": [
       "<Figure size 432x288 with 1 Axes>"
      ]
     },
     "metadata": {
      "needs_background": "light"
     },
     "output_type": "display_data"
    }
   ],
   "source": [
    "plt.hist(glade_data['Radiation (cps)'])\n",
    "plt.ylabel('Radiation (cps)')\n",
    "\n",
    "plt.show()"
   ]
  },
  {
   "cell_type": "markdown",
   "id": "40409a5f",
   "metadata": {},
   "source": [
    "## Comparison"
   ]
  },
  {
   "cell_type": "code",
   "execution_count": 21,
   "id": "064e62ba",
   "metadata": {},
   "outputs": [
    {
     "data": {
      "text/plain": [
       "<matplotlib.legend.Legend at 0x7f8343b69dc0>"
      ]
     },
     "execution_count": 21,
     "metadata": {},
     "output_type": "execute_result"
    },
    {
     "data": {
      "image/png": "[encoded data removed]",
      "text/plain": [
       "<Figure size 432x288 with 1 Axes>"
      ]
     },
     "metadata": {
      "needs_background": "light"
     },
     "output_type": "display_data"
    }
   ],
   "source": [
    "plt.hist(etch_data['Radiation'], label = 'Etcheverry')\n",
    "plt.hist(rsf_data['Radiation (cps)'], label = 'RSF')\n",
    "plt.hist(unit3_data['Radiation (cps)'], label = 'Unit 3')\n",
    "plt.hist(glade_data['Radiation (cps)'], label = 'Glade')\n",
    "\n",
    "plt.legend('Histograms of all locations')\n",
    "plt.ylabel('Radiation (cps)')\n",
    "plt.legend(loc = 'upper right')"
   ]
  },
  {
   "cell_type": "code",
   "execution_count": 30,
   "id": "6d57388c",
   "metadata": {},
   "outputs": [
    {
     "data": {
      "image/png": "[encoded data removed]",
      "text/plain": [
       "<Figure size 432x288 with 1 Axes>"
      ]
     },
     "metadata": {
      "needs_background": "light"
     },
     "output_type": "display_data"
    }
   ],
   "source": [
    "data_combined = [etch_data['Radiation'], rsf_data['Radiation (cps)'], unit3_data['Radiation (cps)'], glade_data['Radiation (cps)']]\n",
    "\n",
    "ax = sns.boxplot(data=data_combined, width=0.4, palette='Set3', notch=True, dodge=False)\n",
    "\n",
    "ax.set_xticklabels(['Etcheverry', 'RSF', 'Unit 3', 'Glade'])\n",
    "\n",
    "plt.show()"
   ]
  },
  {
   "cell_type": "markdown",
   "id": "9a119fd4",
   "metadata": {},
   "source": [
    "## Activity Calculator"
   ]
  },
  {
   "cell_type": "code",
   "execution_count": 38,
   "id": "f374c99d",
   "metadata": {},
   "outputs": [],
   "source": [
    "def activity(cps):\n",
    "    mean = cps.mean() * 60\n",
    "    doserate = mean * .0000427 * 1e-6\n",
    "    activity = doserate * 70/(3600 * 500 * 1.6e-16)\n",
    "    return activity"
   ]
  },
  {
   "cell_type": "code",
   "execution_count": 39,
   "id": "53db437e",
   "metadata": {},
   "outputs": [
    {
     "data": {
      "text/plain": [
       "22089.59282700422"
      ]
     },
     "execution_count": 39,
     "metadata": {},
     "output_type": "execute_result"
    }
   ],
   "source": [
    "etch_activity = activity(etch_data['Radiation'])\n",
    "etch_activity"
   ]
  },
  {
   "cell_type": "code",
   "execution_count": 45,
   "id": "56e31efd",
   "metadata": {
    "scrolled": true
   },
   "outputs": [
    {
     "data": {
      "text/plain": [
       "29086.014351851856"
      ]
     },
     "execution_count": 45,
     "metadata": {},
     "output_type": "execute_result"
    }
   ],
   "source": [
    "glade_activity = activity(glade_data['Radiation (cps)'])\n",
    "glade_activity"
   ]
  },
  {
   "cell_type": "code",
   "execution_count": 57,
   "id": "7a82e8ac",
   "metadata": {},
   "outputs": [
    {
     "data": {
      "text/plain": [
       "23181.888761467893"
      ]
     },
     "execution_count": 57,
     "metadata": {},
     "output_type": "execute_result"
    }
   ],
   "source": [
    "unit3_activity = activity(unit3_data['Radiation (cps)'])\n",
    "unit3_activity"
   ]
  },
  {
   "cell_type": "code",
   "execution_count": 74,
   "id": "144fb31c",
   "metadata": {},
   "outputs": [
    {
     "data": {
      "text/plain": [
       "19128.203271028033"
      ]
     },
     "execution_count": 74,
     "metadata": {},
     "output_type": "execute_result"
    }
   ],
   "source": [
    "rsf_activity = activity(rsf_data['Radiation (cps)'])\n",
    "rsf_activity"
   ]
  },
  {
   "cell_type": "code",
   "execution_count": 78,
   "id": "1544a5f2",
   "metadata": {},
   "outputs": [],
   "source": [
    "def dose(cps):\n",
    "    mean = cps.mean() * 60 * 0.0000427\n",
    "    return mean"
   ]
  },
  {
   "cell_type": "code",
   "execution_count": 80,
   "id": "24988f0d",
   "metadata": {},
   "outputs": [
    {
     "data": {
      "text/plain": [
       "0.09088289620253168"
      ]
     },
     "execution_count": 80,
     "metadata": {},
     "output_type": "execute_result"
    }
   ],
   "source": [
    "etch_dose = dose(etch_data['Radiation'])\n",
    "etch_dose"
   ]
  },
  {
   "cell_type": "code",
   "execution_count": 83,
   "id": "778aea95",
   "metadata": {},
   "outputs": [
    {
     "data": {
      "text/plain": [
       "0.11966817333333338"
      ]
     },
     "execution_count": 83,
     "metadata": {},
     "output_type": "execute_result"
    }
   ],
   "source": [
    "glade_dose = dose(glade_data['Radiation (cps)'])\n",
    "glade_dose"
   ]
  },
  {
   "cell_type": "code",
   "execution_count": 100,
   "id": "03aad510",
   "metadata": {},
   "outputs": [
    {
     "data": {
      "text/plain": [
       "0.09537691376146791"
      ]
     },
     "execution_count": 100,
     "metadata": {},
     "output_type": "execute_result"
    }
   ],
   "source": [
    "unit3_activity = dose(unit3_data['Radiation (cps)'])\n",
    "unit3_activity"
   ]
  },
  {
   "cell_type": "code",
   "execution_count": 101,
   "id": "b7a7c411",
   "metadata": {},
   "outputs": [
    {
     "data": {
      "text/plain": [
       "0.07869889345794392"
      ]
     },
     "execution_count": 101,
     "metadata": {},
     "output_type": "execute_result"
    }
   ],
   "source": [
    "rsf_activity = dose(rsf_data['Radiation (cps)'])\n",
    "rsf_activity"
   ]
  }
 ],
 "metadata": {
  "kernelspec": {
   "display_name": "Python 3 (ipykernel)",
   "language": "python",
   "name": "python3"
  },
  "language_info": {
   "codemirror_mode": {
    "name": "ipython",
    "version": 3
   },
   "file_extension": ".py",
   "mimetype": "text/x-python",
   "name": "python",
   "nbconvert_exporter": "python",
   "pygments_lexer": "ipython3",
   "version": "3.9.12"
  }
 },
 "nbformat": 4,
 "nbformat_minor": 5
}
