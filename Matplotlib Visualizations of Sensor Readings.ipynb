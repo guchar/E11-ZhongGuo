{
 "cells": [
  {
   "cell_type": "code",
   "execution_count": 12,
   "id": "64eac1b5",
   "metadata": {},
   "outputs": [
    {
     "data": {
      "text/html": [
       "<div>\n",
       "<style scoped>\n",
       "    .dataframe tbody tr th:only-of-type {\n",
       "        vertical-align: middle;\n",
       "    }\n",
       "\n",
       "    .dataframe tbody tr th {\n",
       "        vertical-align: top;\n",
       "    }\n",
       "\n",
       "    .dataframe thead th {\n",
       "        text-align: right;\n",
       "    }\n",
       "</style>\n",
       "<table border=\"1\" class=\"dataframe\">\n",
       "  <thead>\n",
       "    <tr style=\"text-align: right;\">\n",
       "      <th></th>\n",
       "      <th>Timestamp</th>\n",
       "      <th>PM 1.0</th>\n",
       "      <th>PM 2.5</th>\n",
       "      <th>PM 10</th>\n",
       "      <th>Temperature</th>\n",
       "      <th>Gas</th>\n",
       "      <th>Humidity</th>\n",
       "      <th>Pressure</th>\n",
       "      <th>Altitude</th>\n",
       "    </tr>\n",
       "  </thead>\n",
       "  <tbody>\n",
       "    <tr>\n",
       "      <th>0</th>\n",
       "      <td>1.676508e+09</td>\n",
       "      <td>0</td>\n",
       "      <td>0</td>\n",
       "      <td>1</td>\n",
       "      <td>22.477656</td>\n",
       "      <td>59920</td>\n",
       "      <td>20.111729</td>\n",
       "      <td>1012.453568</td>\n",
       "      <td>6.632956</td>\n",
       "    </tr>\n",
       "    <tr>\n",
       "      <th>1</th>\n",
       "      <td>1.676508e+09</td>\n",
       "      <td>0</td>\n",
       "      <td>0</td>\n",
       "      <td>1</td>\n",
       "      <td>22.497383</td>\n",
       "      <td>10075</td>\n",
       "      <td>20.107766</td>\n",
       "      <td>1012.465545</td>\n",
       "      <td>6.533171</td>\n",
       "    </tr>\n",
       "    <tr>\n",
       "      <th>2</th>\n",
       "      <td>1.676508e+09</td>\n",
       "      <td>0</td>\n",
       "      <td>0</td>\n",
       "      <td>1</td>\n",
       "      <td>22.538008</td>\n",
       "      <td>12824</td>\n",
       "      <td>20.105035</td>\n",
       "      <td>1012.465958</td>\n",
       "      <td>6.529735</td>\n",
       "    </tr>\n",
       "    <tr>\n",
       "      <th>3</th>\n",
       "      <td>1.676508e+09</td>\n",
       "      <td>0</td>\n",
       "      <td>0</td>\n",
       "      <td>1</td>\n",
       "      <td>22.578437</td>\n",
       "      <td>14428</td>\n",
       "      <td>20.066414</td>\n",
       "      <td>1012.454092</td>\n",
       "      <td>6.628584</td>\n",
       "    </tr>\n",
       "    <tr>\n",
       "      <th>4</th>\n",
       "      <td>1.676508e+09</td>\n",
       "      <td>0</td>\n",
       "      <td>0</td>\n",
       "      <td>1</td>\n",
       "      <td>22.614180</td>\n",
       "      <td>15570</td>\n",
       "      <td>20.012154</td>\n",
       "      <td>1012.454565</td>\n",
       "      <td>6.624647</td>\n",
       "    </tr>\n",
       "  </tbody>\n",
       "</table>\n",
       "</div>"
      ],
      "text/plain": [
       "      Timestamp  PM 1.0  PM 2.5  PM 10  Temperature    Gas   Humidity  \\\n",
       "0  1.676508e+09       0       0      1    22.477656  59920  20.111729   \n",
       "1  1.676508e+09       0       0      1    22.497383  10075  20.107766   \n",
       "2  1.676508e+09       0       0      1    22.538008  12824  20.105035   \n",
       "3  1.676508e+09       0       0      1    22.578437  14428  20.066414   \n",
       "4  1.676508e+09       0       0      1    22.614180  15570  20.012154   \n",
       "\n",
       "      Pressure  Altitude  \n",
       "0  1012.453568  6.632956  \n",
       "1  1012.465545  6.533171  \n",
       "2  1012.465958  6.529735  \n",
       "3  1012.454092  6.628584  \n",
       "4  1012.454565  6.624647  "
      ]
     },
     "execution_count": 12,
     "metadata": {},
     "output_type": "execute_result"
    }
   ],
   "source": [
    "import pandas as pd \n",
    "import matplotlib.pyplot as plt \n",
    "\n",
    "df = pd.read_csv(\"/Users/charliegu_1/Documents/GitHub/E11-ZhongGuo/file_second\")\n",
    "df.head()"
   ]
  },
  {
   "cell_type": "code",
   "execution_count": 15,
   "id": "7779a9c7",
   "metadata": {},
   "outputs": [
    {
     "data": {
      "text/plain": [
       "Text(0.5, 1.0, 'PM 1.0 vs time')"
      ]
     },
     "execution_count": 15,
     "metadata": {},
     "output_type": "execute_result"
    },
    {
     "data": {
      "image/png": "[encoded data removed]",
      "text/plain": [
       "<Figure size 432x288 with 1 Axes>"
      ]
     },
     "metadata": {
      "needs_background": "light"
     },
     "output_type": "display_data"
    }
   ],
   "source": [
    "plt.plot(df['Timestamp'], df['PM 1.0'])\n",
    "plt.ylabel('PM 1.0')\n",
    "plt.xlabel('Time')\n",
    "plt.title(\"PM 1.0 vs time\")"
   ]
  },
  {
   "cell_type": "code",
   "execution_count": 17,
   "id": "d54b64d4",
   "metadata": {},
   "outputs": [
    {
     "data": {
      "text/plain": [
       "Text(0.5, 1.0, 'PM 2.5 vs time')"
      ]
     },
     "execution_count": 17,
     "metadata": {},
     "output_type": "execute_result"
    },
    {
     "data": {
      "image/png": "[encoded data removed]",
      "text/plain": [
       "<Figure size 432x288 with 1 Axes>"
      ]
     },
     "metadata": {
      "needs_background": "light"
     },
     "output_type": "display_data"
    }
   ],
   "source": [
    "plt.plot(df['Timestamp'], df['PM 2.5'])\n",
    "plt.ylabel('PM 2.5')\n",
    "plt.xlabel('Time')\n",
    "plt.title(\"PM 2.5 vs time\")"
   ]
  },
  {
   "cell_type": "code",
   "execution_count": 19,
   "id": "e38f4d34",
   "metadata": {},
   "outputs": [
    {
     "data": {
      "text/plain": [
       "Text(0.5, 1.0, 'PM 10 vs time')"
      ]
     },
     "execution_count": 19,
     "metadata": {},
     "output_type": "execute_result"
    },
    {
     "data": {
      "image/png": "[encoded data removed]",
      "text/plain": [
       "<Figure size 432x288 with 1 Axes>"
      ]
     },
     "metadata": {
      "needs_background": "light"
     },
     "output_type": "display_data"
    }
   ],
   "source": [
    "plt.plot(df['Timestamp'], df['PM 10'])\n",
    "plt.ylabel('PM 10')\n",
    "plt.xlabel('Time')\n",
    "plt.title(\"PM 10 vs time\")"
   ]
  },
  {
   "cell_type": "code",
   "execution_count": null,
   "id": "69f4a0ab",
   "metadata": {},
   "outputs": [],
   "source": []
  }
 ],
 "metadata": {
  "kernelspec": {
   "display_name": "Python 3 (ipykernel)",
   "language": "python",
   "name": "python3"
  },
  "language_info": {
   "codemirror_mode": {
    "name": "ipython",
    "version": 3
   },
   "file_extension": ".py",
   "mimetype": "text/x-python",
   "name": "python",
   "nbconvert_exporter": "python",
   "pygments_lexer": "ipython3",
   "version": "3.9.12"
  }
 },
 "nbformat": 4,
 "nbformat_minor": 5
}
