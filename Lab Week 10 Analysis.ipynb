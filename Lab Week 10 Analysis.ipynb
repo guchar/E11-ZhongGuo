{
 "cells": [
  {
   "cell_type": "code",
   "execution_count": 3,
   "id": "0f134a3f",
   "metadata": {},
   "outputs": [],
   "source": [
    "import numpy as np \n",
    "import pandas as pd \n",
    "import matplotlib.pyplot as plt"
   ]
  },
  {
   "cell_type": "code",
   "execution_count": 11,
   "id": "d6f0fb86",
   "metadata": {},
   "outputs": [],
   "source": [
    "rock = pd.read_csv('/Users/charliegu_1/Documents/GitHub/E11-ZhongGuo/plain_rock')\n",
    "rock_al_one = pd.read_csv('/Users/charliegu_1/Documents/GitHub/E11-ZhongGuo/Al1_rock')\n",
    "rock_al_two = pd.read_csv('/Users/charliegu_1/Documents/GitHub/E11-ZhongGuo/Al2_rock')\n",
    "rock_al_three = pd.read_csv('/Users/charliegu_1/Documents/GitHub/E11-ZhongGuo/Al3_rock')\n",
    "rock_t_one = pd.read_csv('/Users/charliegu_1/Documents/GitHub/E11-ZhongGuo/tungsten1_rock')\n",
    "rock_t_two = pd.read_csv('/Users/charliegu_1/Documents/GitHub/E11-ZhongGuo/tungsten2_rock')\n",
    "rock_t_three = pd.read_csv('/Users/charliegu_1/Documents/GitHub/E11-ZhongGuo/tungsten3_rock')\n",
    "\n",
    "u = pd.read_csv('/Users/charliegu_1/Documents/GitHub/E11-ZhongGuo/plain_U')\n",
    "u_al_one = pd.read_csv('/Users/charliegu_1/Documents/GitHub/E11-ZhongGuo/Al1_U')\n",
    "u_al_two = pd.read_csv('/Users/charliegu_1/Documents/GitHub/E11-ZhongGuo/Al2_U')\n",
    "u_al_three = pd.read_csv('/Users/charliegu_1/Documents/GitHub/E11-ZhongGuo/Al3_U')\n",
    "u_t_one = pd.read_csv('/Users/charliegu_1/Documents/GitHub/E11-ZhongGuo/Tungsten1_U')\n",
    "u_t_two = pd.read_csv('/Users/charliegu_1/Documents/GitHub/E11-ZhongGuo/Tungsten2_U')\n",
    "u_t_three = pd.read_csv('/Users/charliegu_1/Documents/GitHub/E11-ZhongGuo/Tungsten3_U')"
   ]
  },
  {
   "cell_type": "code",
   "execution_count": 44,
   "id": "39a32fab",
   "metadata": {},
   "outputs": [],
   "source": [
    "rock_values = [rock, rock_al_one, rock_al_two, rock_al_three, rock_t_one, rock_t_two, rock_t_three]\n"
   ]
  },
  {
   "cell_type": "code",
   "execution_count": 46,
   "id": "03b43007",
   "metadata": {},
   "outputs": [
    {
     "data": {
      "text/plain": [
       "0     13\n",
       "1     14\n",
       "2     18\n",
       "3     27\n",
       "4     14\n",
       "5     17\n",
       "6     19\n",
       "7     20\n",
       "8     15\n",
       "9     19\n",
       "10    18\n",
       "11    13\n",
       "Name: Counts, dtype: int64"
      ]
     },
     "execution_count": 46,
     "metadata": {},
     "output_type": "execute_result"
    }
   ],
   "source": [
    "rock['Counts']"
   ]
  },
  {
   "cell_type": "code",
   "execution_count": 55,
   "id": "edc8d634",
   "metadata": {},
   "outputs": [
    {
     "data": {
      "image/png": "[encoded data removed]",
      "text/plain": [
       "<Figure size 432x288 with 1 Axes>"
      ]
     },
     "metadata": {
      "needs_background": "light"
     },
     "output_type": "display_data"
    }
   ],
   "source": [
    "plt.hist(rock['Counts'], bins = 7, label = 'Plain rock')\n",
    "plt.hist(rock_al_one['Counts'], bins = 7, label = '1 Al')\n",
    "plt.hist(rock_al_two['Counts'], bins = 7, label = '2 Al')\n",
    "plt.hist(rock_al_three['Counts'], bins = 7, label = '3 Al')\n",
    "\n",
    "plt.hist(rock_t_one['Counts'], bins = 7, label = '1 Tungsten')\n",
    "plt.hist(rock_t_two['Counts'], bins = 7, label = '2 Tungsten')\n",
    "plt.hist(rock_t_three['Counts'], bins = 7, label = '3 Tungsten')\n",
    "\n",
    "plt.xlabel('Counts')\n",
    "plt.ylabel('Frequency')\n",
    "\n",
    "plt.legend()\n",
    "plt.show()"
   ]
  },
  {
   "cell_type": "markdown",
   "id": "9eca9226",
   "metadata": {},
   "source": [
    "The theoretical uncertainty would just be sqrt(N), compare this to the actual STDs. "
   ]
  },
  {
   "cell_type": "markdown",
   "id": "d0af13d4",
   "metadata": {},
   "source": [
    "As the thickness of the material increases, one would expect to see the number of number of counts decrease and/or the frequency of lower counts increase. "
   ]
  }
 ],
 "metadata": {
  "kernelspec": {
   "display_name": "Python 3 (ipykernel)",
   "language": "python",
   "name": "python3"
  },
  "language_info": {
   "codemirror_mode": {
    "name": "ipython",
    "version": 3
   },
   "file_extension": ".py",
   "mimetype": "text/x-python",
   "name": "python",
   "nbconvert_exporter": "python",
   "pygments_lexer": "ipython3",
   "version": "3.9.12"
  }
 },
 "nbformat": 4,
 "nbformat_minor": 5
}
