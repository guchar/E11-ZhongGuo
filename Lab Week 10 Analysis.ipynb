{
 "cells": [
  {
   "cell_type": "code",
   "execution_count": 1,
   "id": "0f134a3f",
   "metadata": {},
   "outputs": [],
   "source": [
    "import numpy as np \n",
    "import pandas as pd \n",
    "import matplotlib.pyplot as plt"
   ]
  },
  {
   "cell_type": "code",
   "execution_count": 2,
   "id": "d6f0fb86",
   "metadata": {},
   "outputs": [],
   "source": [
    "rock = pd.read_csv('/Users/charliegu_1/Documents/GitHub/E11-ZhongGuo/plain_rock')\n",
    "rock_al_one = pd.read_csv('/Users/charliegu_1/Documents/GitHub/E11-ZhongGuo/Al1_rock')\n",
    "rock_al_two = pd.read_csv('/Users/charliegu_1/Documents/GitHub/E11-ZhongGuo/Al2_rock')\n",
    "rock_al_three = pd.read_csv('/Users/charliegu_1/Documents/GitHub/E11-ZhongGuo/Al3_rock')\n",
    "rock_t_one = pd.read_csv('/Users/charliegu_1/Documents/GitHub/E11-ZhongGuo/tungsten1_rock')\n",
    "rock_t_two = pd.read_csv('/Users/charliegu_1/Documents/GitHub/E11-ZhongGuo/tungsten2_rock')\n",
    "rock_t_three = pd.read_csv('/Users/charliegu_1/Documents/GitHub/E11-ZhongGuo/tungsten3_rock')\n",
    "\n",
    "u = pd.read_csv('/Users/charliegu_1/Documents/GitHub/E11-ZhongGuo/plain_U')\n",
    "u_al_one = pd.read_csv('/Users/charliegu_1/Documents/GitHub/E11-ZhongGuo/Al1_U')\n",
    "u_al_two = pd.read_csv('/Users/charliegu_1/Documents/GitHub/E11-ZhongGuo/Al2_U')\n",
    "u_al_three = pd.read_csv('/Users/charliegu_1/Documents/GitHub/E11-ZhongGuo/Al3_U')\n",
    "u_t_one = pd.read_csv('/Users/charliegu_1/Documents/GitHub/E11-ZhongGuo/Tungsten1_U')\n",
    "u_t_two = pd.read_csv('/Users/charliegu_1/Documents/GitHub/E11-ZhongGuo/Tungsten2_U')\n",
    "u_t_three = pd.read_csv('/Users/charliegu_1/Documents/GitHub/E11-ZhongGuo/Tungsten3_U')"
   ]
  },
  {
   "cell_type": "code",
   "execution_count": 3,
   "id": "39a32fab",
   "metadata": {},
   "outputs": [],
   "source": [
    "rock_values = [rock, rock_al_one, rock_al_two, rock_al_three, rock_t_one, rock_t_two, rock_t_three]"
   ]
  },
  {
   "cell_type": "code",
   "execution_count": 5,
   "id": "edc8d634",
   "metadata": {},
   "outputs": [
    {
     "data": {
      "image/png": "[encoded data removed]",
      "text/plain": [
       "<Figure size 432x288 with 1 Axes>"
      ]
     },
     "metadata": {
      "needs_background": "light"
     },
     "output_type": "display_data"
    }
   ],
   "source": [
    "plt.hist(rock['Counts'], bins = 7, label = 'Plain rock')\n",
    "plt.hist(rock_al_one['Counts'], bins = 7, label = '1 Al')\n",
    "plt.hist(rock_al_two['Counts'], bins = 7, label = '2 Al')\n",
    "plt.hist(rock_al_three['Counts'], bins = 7, label = '3 Al')\n",
    "\n",
    "plt.hist(rock_t_one['Counts'], bins = 7, label = '1 Tungsten')\n",
    "plt.hist(rock_t_two['Counts'], bins = 7, label = '2 Tungsten')\n",
    "plt.hist(rock_t_three['Counts'], bins = 7, label = '3 Tungsten')\n",
    "\n",
    "plt.xlabel('Counts')\n",
    "plt.ylabel('Frequency')\n",
    "\n",
    "plt.legend()\n",
    "plt.show()"
   ]
  },
  {
   "cell_type": "markdown",
   "id": "9eca9226",
   "metadata": {},
   "source": [
    "The theoretical uncertainty would just be sqrt(N), compare this to the actual STDs. "
   ]
  },
  {
   "cell_type": "code",
   "execution_count": 6,
   "id": "fd29fe78",
   "metadata": {},
   "outputs": [],
   "source": [
    "import math\n",
    "\n",
    "def std(count):\n",
    "    return \"The theoretical standard deviation is\", math.sqrt(count.count()), \". The actual standard deviation is\", np.std(count)"
   ]
  },
  {
   "cell_type": "code",
   "execution_count": 7,
   "id": "2cd73779",
   "metadata": {},
   "outputs": [
    {
     "data": {
      "text/plain": [
       "('The theoretical standard deviation is',\n",
       " 3.4641016151377544,\n",
       " '. The actual standard deviation is',\n",
       " 3.788689307223102)"
      ]
     },
     "execution_count": 7,
     "metadata": {},
     "output_type": "execute_result"
    }
   ],
   "source": [
    "#Plain Rock\n",
    "\n",
    "std(rock['Counts'])"
   ]
  },
  {
   "attachments": {},
   "cell_type": "markdown",
   "id": "faa4d63f",
   "metadata": {},
   "source": [
    "np.mean(rock[\"Counts\"])"
   ]
  },
  {
   "cell_type": "code",
   "execution_count": null,
   "id": "25212bb1",
   "metadata": {},
   "outputs": [],
   "source": [
    "17.25"
   ]
  },
  {
   "cell_type": "code",
   "execution_count": 8,
   "id": "f4055db0",
   "metadata": {},
   "outputs": [
    {
     "data": {
      "text/plain": [
       "('The theoretical standard deviation is',\n",
       " 3.4641016151377544,\n",
       " '. The actual standard deviation is',\n",
       " 2.0190069065976193)"
      ]
     },
     "execution_count": 8,
     "metadata": {},
     "output_type": "execute_result"
    }
   ],
   "source": [
    "#Rock w/ 1 Al Layer\n",
    "\n",
    "std(rock_al_one['Counts'])"
   ]
  },
  {
   "attachments": {},
   "cell_type": "markdown",
   "id": "d0532fe4",
   "metadata": {},
   "source": [
    "np.mean(rock_al_one[\"Counts\"])"
   ]
  },
  {
   "cell_type": "code",
   "execution_count": null,
   "id": "fefb87ad",
   "metadata": {},
   "outputs": [],
   "source": [
    "4.583333333333333"
   ]
  },
  {
   "cell_type": "code",
   "execution_count": 65,
   "id": "f8dc2357",
   "metadata": {},
   "outputs": [
    {
     "data": {
      "text/plain": [
       "('The theoretical standard deviation is',\n",
       " 3.4641016151377544,\n",
       " '. The actual standard deviation is',\n",
       " 2.23606797749979)"
      ]
     },
     "execution_count": 65,
     "metadata": {},
     "output_type": "execute_result"
    }
   ],
   "source": [
    "#Rock w/ 2 Al Layer\n",
    "\n",
    "std(rock_al_two['Counts'])"
   ]
  },
  {
   "attachments": {},
   "cell_type": "markdown",
   "id": "06834d21",
   "metadata": {},
   "source": [
    "np.mean(rock_al_two[\"Counts\"])"
   ]
  },
  {
   "cell_type": "code",
   "execution_count": null,
   "id": "4d31eb51",
   "metadata": {},
   "outputs": [],
   "source": [
    "5.0"
   ]
  },
  {
   "cell_type": "code",
   "execution_count": 66,
   "id": "6cae0712",
   "metadata": {},
   "outputs": [
    {
     "data": {
      "text/plain": [
       "('The theoretical standard deviation is',\n",
       " 3.4641016151377544,\n",
       " '. The actual standard deviation is',\n",
       " 2.565800719723442)"
      ]
     },
     "execution_count": 66,
     "metadata": {},
     "output_type": "execute_result"
    }
   ],
   "source": [
    "#Rock w/ 3 Al Layer\n",
    "\n",
    "\n",
    "std(rock_al_three['Counts'])"
   ]
  },
  {
   "attachments": {},
   "cell_type": "markdown",
   "id": "fea2af6e",
   "metadata": {},
   "source": [
    "np.mean(rock_al_three[\"Counts\"])"
   ]
  },
  {
   "cell_type": "code",
   "execution_count": null,
   "id": "959ce701",
   "metadata": {},
   "outputs": [],
   "source": [
    "4.5"
   ]
  },
  {
   "cell_type": "code",
   "execution_count": 67,
   "id": "b4065582",
   "metadata": {},
   "outputs": [
    {
     "data": {
      "text/plain": [
       "('The theoretical standard deviation is',\n",
       " 3.4641016151377544,\n",
       " '. The actual standard deviation is',\n",
       " 1.1547005383792515)"
      ]
     },
     "execution_count": 67,
     "metadata": {},
     "output_type": "execute_result"
    }
   ],
   "source": [
    "#Rock w/ 1 W Layer\n",
    "\n",
    "\n",
    "std(rock_t_one['Counts'])"
   ]
  },
  {
   "attachments": {},
   "cell_type": "markdown",
   "id": "e7cfd055",
   "metadata": {},
   "source": [
    "np.mean(rock_t_one[\"Counts\"])"
   ]
  },
  {
   "cell_type": "code",
   "execution_count": null,
   "id": "0a9d1d4d",
   "metadata": {},
   "outputs": [],
   "source": [
    "2.0"
   ]
  },
  {
   "cell_type": "code",
   "execution_count": 68,
   "id": "349a2d47",
   "metadata": {},
   "outputs": [
    {
     "data": {
      "text/plain": [
       "('The theoretical standard deviation is',\n",
       " 3.4641016151377544,\n",
       " '. The actual standard deviation is',\n",
       " 1.2583057392117916)"
      ]
     },
     "execution_count": 68,
     "metadata": {},
     "output_type": "execute_result"
    }
   ],
   "source": [
    "#Rock w/ 2 W Layer\n",
    "\n",
    "std(rock_t_two['Counts'])"
   ]
  },
  {
   "attachments": {},
   "cell_type": "markdown",
   "id": "1b888951",
   "metadata": {},
   "source": [
    "np.mean(rock_t_two[\"Counts\"])"
   ]
  },
  {
   "cell_type": "code",
   "execution_count": null,
   "id": "476436b8",
   "metadata": {},
   "outputs": [],
   "source": [
    "1.5"
   ]
  },
  {
   "cell_type": "code",
   "execution_count": 69,
   "id": "d672ecfc",
   "metadata": {},
   "outputs": [
    {
     "data": {
      "text/plain": [
       "('The theoretical standard deviation is',\n",
       " 3.4641016151377544,\n",
       " '. The actual standard deviation is',\n",
       " 1.0)"
      ]
     },
     "execution_count": 69,
     "metadata": {},
     "output_type": "execute_result"
    }
   ],
   "source": [
    "#Rock w/ 3 W Layer\n",
    "\n",
    "std(rock_t_three['Counts'])"
   ]
  },
  {
   "attachments": {},
   "cell_type": "markdown",
   "id": "50ef3770",
   "metadata": {},
   "source": [
    "np.mean(rock_t_three[\"Counts\"])"
   ]
  },
  {
   "cell_type": "code",
   "execution_count": null,
   "id": "367b3b31",
   "metadata": {},
   "outputs": [],
   "source": [
    "1.0"
   ]
  },
  {
   "cell_type": "markdown",
   "id": "d0af13d4",
   "metadata": {},
   "source": [
    "As the thickness of the material increases, one would expect to see the number of number of counts decrease and/or the frequency of lower counts increase. "
   ]
  },
  {
   "cell_type": "markdown",
   "id": "d7d6ef04",
   "metadata": {},
   "source": [
    "### Graph the total counts measured (including uncertainties) as a function of absorber thickness for both the Al and W absorbers (on the same graph) on a log scale\n",
    "a. Note: matplotlib pyplot has an errorbar method for plotting you should use\n",
    "b. Recall the definition of uncertainties for measured counts"
   ]
  },
  {
   "cell_type": "markdown",
   "id": "3fc52fbd",
   "metadata": {},
   "source": [
    "#### Calculating errorbars"
   ]
  },
  {
   "cell_type": "code",
   "execution_count": 109,
   "id": "b636e001",
   "metadata": {},
   "outputs": [],
   "source": [
    "#Aluminum\n",
    "\n",
    "x = [1, 2, 3]\n",
    "y = [rock_al_one['Counts'].sum(), rock_al_two['Counts'].sum(), rock_al_three['Counts'].sum()]\n",
    "z = [x ** 0.5 for x in y]"
   ]
  },
  {
   "cell_type": "code",
   "execution_count": 110,
   "id": "e43d0497",
   "metadata": {},
   "outputs": [],
   "source": [
    "#Tungsten\n",
    "\n",
    "x2 = [1, 2, 3]\n",
    "y2 = [rock_t_one['Counts'].sum(), rock_t_two['Counts'].sum(), rock_t_three['Counts'].sum()]\n",
    "z2 = [x ** 0.5 for x in y2]"
   ]
  },
  {
   "cell_type": "code",
   "execution_count": 111,
   "id": "204b9b06",
   "metadata": {},
   "outputs": [],
   "source": [
    "colors = ['b', 'r']\n",
    "markers = ['o', 's']\n",
    "labels = ['Al', 'W']\n",
    "alpha = 0.5"
   ]
  },
  {
   "cell_type": "code",
   "execution_count": 112,
   "id": "945b5f14",
   "metadata": {},
   "outputs": [
    {
     "data": {
      "image/png": "[encoded data removed]",
      "text/plain": [
       "<Figure size 432x288 with 1 Axes>"
      ]
     },
     "metadata": {
      "needs_background": "light"
     },
     "output_type": "display_data"
    }
   ],
   "source": [
    "fig, ax = plt.subplots()\n",
    "ax.set_yscale('log')\n",
    "ax.set_xlabel('Thickness (cm)')\n",
    "ax.set_ylabel('Counts')\n",
    "for i, (thickness, counts, uncertain) in enumerate(zip([x, x2], [y, y2], [z, z2])):\n",
    "    ax.errorbar(thickness, counts, yerr = uncertain, color = colors[i], fmt = markers[i], markersize = 8, alpha = alpha, label = labels[i])\n",
    "    \n",
    "ax.legend(loc = 'best')\n",
    "plt.show()"
   ]
  },
  {
   "cell_type": "markdown",
   "id": "f6aa6636",
   "metadata": {},
   "source": [
    "### Calculating the Absorption Coefficient \n",
    "\n",
    "The line of best fit for the Aluminum is calculated to be y = -45.4x + 162.1. Using the slope as an estimate for the absorption coefficient, it is estimated "
   ]
  },
  {
   "cell_type": "code",
   "execution_count": 152,
   "id": "f43d6b86",
   "metadata": {},
   "outputs": [
    {
     "data": {
      "text/plain": [
       "-0.5000000000000147"
      ]
     },
     "execution_count": 152,
     "metadata": {},
     "output_type": "execute_result"
    },
    {
     "data": {
      "image/png": "[encoded data removed]",
      "text/plain": [
       "<Figure size 432x288 with 1 Axes>"
      ]
     },
     "metadata": {
      "needs_background": "light"
     },
     "output_type": "display_data"
    }
   ],
   "source": [
    "#Aluminum\n",
    "\n",
    "coefficients = np.polyfit(x, y, 1)\n",
    "m = coefficients[0]\n",
    "b = coefficients[1]\n",
    "line = m*np.array(x) + b\n",
    "\n",
    "plt.plot(x, line, color='red')\n",
    "m"
   ]
  },
  {
   "cell_type": "markdown",
   "id": "484415be",
   "metadata": {},
   "source": [
    "The slope of this line is -0.50, therefore the absorption coefficient for aluminum can be estimated to be -0.50."
   ]
  },
  {
   "cell_type": "code",
   "execution_count": 153,
   "id": "2dbb317d",
   "metadata": {},
   "outputs": [
    {
     "data": {
      "text/plain": [
       "-6.000000000000001"
      ]
     },
     "execution_count": 153,
     "metadata": {},
     "output_type": "execute_result"
    },
    {
     "data": {
      "image/png": "[encoded data removed]",
      "text/plain": [
       "<Figure size 432x288 with 1 Axes>"
      ]
     },
     "metadata": {
      "needs_background": "light"
     },
     "output_type": "display_data"
    }
   ],
   "source": [
    "#Tungsten\n",
    "\n",
    "coefficients2 = np.polyfit(x2, y2, 1)\n",
    "m2 = coefficients2[0]\n",
    "b2 = coefficients2[1]\n",
    "line2 = m2*np.array(x2) + b2\n",
    "\n",
    "plt.plot(x2, line2, color='red')\n",
    "m2"
   ]
  },
  {
   "cell_type": "markdown",
   "id": "cffd9c1c",
   "metadata": {},
   "source": [
    "The slope of this line is -6, therefore the absoprtion coefficient for tungsten can be estimated to be -6"
   ]
  },
  {
   "cell_type": "markdown",
   "id": "51ebadb6",
   "metadata": {},
   "source": [
    "# Now, with Uranium"
   ]
  },
  {
   "cell_type": "code",
   "execution_count": 124,
   "id": "68094dea",
   "metadata": {
    "scrolled": true
   },
   "outputs": [
    {
     "data": {
      "image/png": "[encoded data removed]",
      "text/plain": [
       "<Figure size 432x288 with 1 Axes>"
      ]
     },
     "metadata": {
      "needs_background": "light"
     },
     "output_type": "display_data"
    }
   ],
   "source": [
    "plt.hist(u['Counts'], bins = 7, label = 'Plain uranium')\n",
    "plt.hist(u_al_one['Counts'], bins = 7, label = '1 Al')\n",
    "plt.hist(u_al_two['Counts'], bins = 7, label = '2 Al')\n",
    "plt.hist(u_al_three['Counts'], bins = 7, label = '3 Al')\n",
    "\n",
    "plt.hist(u_t_one['Counts'], bins = 7, label = '1 Tungsten')\n",
    "plt.hist(u_t_two['Counts'], bins = 7, label = '2 Tungsten')\n",
    "plt.hist(u_t_three['Counts'], bins = 7, label = '3 Tungsten')\n",
    "\n",
    "plt.xlabel('Counts')\n",
    "plt.ylabel('Frequency')\n",
    "\n",
    "plt.legend()\n",
    "plt.show()"
   ]
  },
  {
   "cell_type": "code",
   "execution_count": 126,
   "id": "36697ff9",
   "metadata": {},
   "outputs": [
    {
     "data": {
      "text/plain": [
       "('The theoretical standard deviation is',\n",
       " 3.4641016151377544,\n",
       " '. The actual standard deviation is',\n",
       " 2.7118566825454966)"
      ]
     },
     "execution_count": 126,
     "metadata": {},
     "output_type": "execute_result"
    }
   ],
   "source": [
    "#Uranium\n",
    "\n",
    "std(u['Counts'])"
   ]
  },
  {
   "attachments": {},
   "cell_type": "markdown",
   "id": "402e6e17",
   "metadata": {},
   "source": [
    "np.mean(u[\"Counts\"])"
   ]
  },
  {
   "cell_type": "code",
   "execution_count": null,
   "id": "f83ac68b",
   "metadata": {},
   "outputs": [],
   "source": [
    "8.75"
   ]
  },
  {
   "cell_type": "code",
   "execution_count": 128,
   "id": "99cc1322",
   "metadata": {},
   "outputs": [
    {
     "data": {
      "text/plain": [
       "('The theoretical standard deviation is',\n",
       " 3.4641016151377544,\n",
       " '. The actual standard deviation is',\n",
       " 1.3437096247164249)"
      ]
     },
     "execution_count": 128,
     "metadata": {},
     "output_type": "execute_result"
    }
   ],
   "source": [
    "#Uranium w/ 1 Al layer\n",
    "\n",
    "std(u_al_one['Counts'])"
   ]
  },
  {
   "attachments": {},
   "cell_type": "markdown",
   "id": "8fe4f79c",
   "metadata": {},
   "source": [
    "np.mean(u_al_one[\"Counts\"])"
   ]
  },
  {
   "cell_type": "code",
   "execution_count": null,
   "id": "4469f4e6",
   "metadata": {},
   "outputs": [],
   "source": [
    "2.8333333333333335"
   ]
  },
  {
   "cell_type": "code",
   "execution_count": 130,
   "id": "06cb281a",
   "metadata": {},
   "outputs": [
    {
     "data": {
      "text/plain": [
       "('The theoretical standard deviation is',\n",
       " 3.4641016151377544,\n",
       " '. The actual standard deviation is',\n",
       " 1.3819269959814167)"
      ]
     },
     "execution_count": 130,
     "metadata": {},
     "output_type": "execute_result"
    }
   ],
   "source": [
    "#Uranium w/ 2 Al layer\n",
    "\n",
    "std(u_al_two['Counts'])"
   ]
  },
  {
   "attachments": {},
   "cell_type": "markdown",
   "id": "795c1ec9",
   "metadata": {},
   "source": [
    "np.mean(u_al_two[\"Counts\"])"
   ]
  },
  {
   "cell_type": "code",
   "execution_count": null,
   "id": "f57d8a67",
   "metadata": {},
   "outputs": [],
   "source": [
    "1.4166666666666667"
   ]
  },
  {
   "cell_type": "code",
   "execution_count": 132,
   "id": "e95f3f75",
   "metadata": {},
   "outputs": [
    {
     "data": {
      "text/plain": [
       "('The theoretical standard deviation is',\n",
       " 3.4641016151377544,\n",
       " '. The actual standard deviation is',\n",
       " 1.2555432644432805)"
      ]
     },
     "execution_count": 132,
     "metadata": {},
     "output_type": "execute_result"
    }
   ],
   "source": [
    "#Uranium w/ 3 Al layer\n",
    "\n",
    "std(u_al_three['Counts'])"
   ]
  },
  {
   "attachments": {},
   "cell_type": "markdown",
   "id": "639f04a9",
   "metadata": {},
   "source": [
    "np.mean(u_al_three[\"Counts\"])"
   ]
  },
  {
   "cell_type": "code",
   "execution_count": null,
   "id": "1bfecd48",
   "metadata": {},
   "outputs": [],
   "source": [
    "1.9166666666666667"
   ]
  },
  {
   "cell_type": "code",
   "execution_count": 134,
   "id": "ebf022a1",
   "metadata": {},
   "outputs": [
    {
     "data": {
      "text/plain": [
       "('The theoretical standard deviation is',\n",
       " 3.4641016151377544,\n",
       " '. The actual standard deviation is',\n",
       " 0.8498365855987975)"
      ]
     },
     "execution_count": 134,
     "metadata": {},
     "output_type": "execute_result"
    }
   ],
   "source": [
    "#Uranium w/ 1 W layer\n",
    "\n",
    "std(u_t_one['Counts'])"
   ]
  },
  {
   "attachments": {},
   "cell_type": "markdown",
   "id": "24b40320",
   "metadata": {},
   "source": [
    "np.mean(u_t_one[\"Counts\"])"
   ]
  },
  {
   "cell_type": "code",
   "execution_count": null,
   "id": "25405793",
   "metadata": {},
   "outputs": [],
   "source": [
    "0.6666666666666666"
   ]
  },
  {
   "cell_type": "code",
   "execution_count": 137,
   "id": "0d1eb3d1",
   "metadata": {},
   "outputs": [
    {
     "data": {
      "text/plain": [
       "('The theoretical standard deviation is',\n",
       " 3.4641016151377544,\n",
       " '. The actual standard deviation is',\n",
       " 0.7993052538854533)"
      ]
     },
     "execution_count": 137,
     "metadata": {},
     "output_type": "execute_result"
    }
   ],
   "source": [
    "#Uranium w/ 2 W layer\n",
    "\n",
    "std(u_t_two['Counts'])"
   ]
  },
  {
   "attachments": {},
   "cell_type": "markdown",
   "id": "96cd500a",
   "metadata": {},
   "source": [
    "np.mean(u_t_two[\"Counts\"])"
   ]
  },
  {
   "cell_type": "code",
   "execution_count": null,
   "id": "9aeae8d6",
   "metadata": {},
   "outputs": [],
   "source": [
    "0.8333333333333334"
   ]
  },
  {
   "cell_type": "code",
   "execution_count": 139,
   "id": "f24e52f4",
   "metadata": {},
   "outputs": [
    {
     "data": {
      "text/plain": [
       "('The theoretical standard deviation is',\n",
       " 3.4641016151377544,\n",
       " '. The actual standard deviation is',\n",
       " 0.4330127018922193)"
      ]
     },
     "execution_count": 139,
     "metadata": {},
     "output_type": "execute_result"
    }
   ],
   "source": [
    "#Uranium w/ 3 W layer\n",
    "\n",
    "std(u_t_three['Counts'])"
   ]
  },
  {
   "attachments": {},
   "cell_type": "markdown",
   "id": "83552775",
   "metadata": {},
   "source": [
    "np.mean(u_t_three[\"Counts\"])"
   ]
  },
  {
   "cell_type": "code",
   "execution_count": null,
   "id": "4a309e9a",
   "metadata": {},
   "outputs": [],
   "source": [
    "0.25"
   ]
  },
  {
   "attachments": {},
   "cell_type": "markdown",
   "id": "6249683a",
   "metadata": {},
   "source": [
    "Similar with the first source, the number of counts and the frequency of higher counts decrease as the increase of thickness of absorber material."
   ]
  },
  {
   "cell_type": "code",
   "execution_count": 141,
   "id": "0f33391f",
   "metadata": {},
   "outputs": [],
   "source": [
    "#Aluminum\n",
    "\n",
    "u_x = [1, 2, 3]\n",
    "u_y = [u_al_one['Counts'].sum(), u_al_two['Counts'].sum(), u_al_three['Counts'].sum()]\n",
    "u_z = [x ** 0.5 for x in u_y]"
   ]
  },
  {
   "cell_type": "code",
   "execution_count": 143,
   "id": "a3180e13",
   "metadata": {},
   "outputs": [],
   "source": [
    "#Tungsten\n",
    "\n",
    "u_x2 = [1, 2, 3]\n",
    "u_y2 = [u_t_one['Counts'].sum(), u_t_two['Counts'].sum(), u_t_three['Counts'].sum()]\n",
    "u_z2 = [x ** 0.5 for x in u_y2]"
   ]
  },
  {
   "cell_type": "code",
   "execution_count": 145,
   "id": "f27c557b",
   "metadata": {},
   "outputs": [],
   "source": [
    "colors = ['b', 'r']\n",
    "markers = ['o', 's']\n",
    "labels = ['Al', 'W']\n",
    "alpha = 0.5"
   ]
  },
  {
   "cell_type": "code",
   "execution_count": 147,
   "id": "83c9661b",
   "metadata": {},
   "outputs": [
    {
     "data": {
      "image/png": "[encoded data removed]",
      "text/plain": [
       "<Figure size 432x288 with 1 Axes>"
      ]
     },
     "metadata": {
      "needs_background": "light"
     },
     "output_type": "display_data"
    }
   ],
   "source": [
    "fig, ax = plt.subplots()\n",
    "ax.set_yscale('log')\n",
    "ax.set_xlabel('Thickness (cm)')\n",
    "ax.set_ylabel('Counts')\n",
    "for i, (thickness, counts, uncertain) in enumerate(zip([u_x, u_x2], [u_y, u_y2], [u_z, u_z2])):\n",
    "    ax.errorbar(thickness, counts, yerr = uncertain, color = colors[i], fmt = markers[i], markersize = 8, alpha = alpha, label = labels[i])\n",
    "    \n",
    "ax.legend(loc = 'best')\n",
    "plt.show()"
   ]
  },
  {
   "cell_type": "code",
   "execution_count": 159,
   "id": "05831894",
   "metadata": {},
   "outputs": [
    {
     "data": {
      "text/plain": [
       "('The absorption coefficient is: ', -5.500000000000008)"
      ]
     },
     "execution_count": 159,
     "metadata": {},
     "output_type": "execute_result"
    },
    {
     "data": {
      "image/png": "[encoded data removed]",
      "text/plain": [
       "<Figure size 432x288 with 1 Axes>"
      ]
     },
     "metadata": {
      "needs_background": "light"
     },
     "output_type": "display_data"
    }
   ],
   "source": [
    "#Aluminum\n",
    "\n",
    "u_al = np.polyfit(u_x, u_y, 1)\n",
    "u_m = u_al[0]\n",
    "u_b = u_al[1]\n",
    "line3 = u_m*np.array(u_x) + u_b\n",
    "\n",
    "plt.plot(u_x, line3, color='red')\n",
    "\"The absorption coefficient is: \", u_m"
   ]
  },
  {
   "cell_type": "code",
   "execution_count": 163,
   "id": "c7744c4e",
   "metadata": {},
   "outputs": [
    {
     "data": {
      "text/plain": [
       "('The absorption coefficient is: ', -2.5000000000000018)"
      ]
     },
     "execution_count": 163,
     "metadata": {},
     "output_type": "execute_result"
    },
    {
     "data": {
      "image/png": "[encoded data removed]",
      "text/plain": [
       "<Figure size 432x288 with 1 Axes>"
      ]
     },
     "metadata": {
      "needs_background": "light"
     },
     "output_type": "display_data"
    }
   ],
   "source": [
    "#Tungsten\n",
    "\n",
    "u_coefficients2 = np.polyfit(u_x2, u_y2, 1)\n",
    "u_m2 = u_coefficients2[0]\n",
    "u_b2 = u_coefficients2[1]\n",
    "line3 = u_m2*np.array(u_x2) + u_b2\n",
    "\n",
    "plt.plot(u_x2, line3, color='red')\n",
    "\"The absorption coefficient is: \", u_m2"
   ]
  },
  {
   "attachments": {},
   "cell_type": "markdown",
   "id": "adc39218",
   "metadata": {},
   "source": [
    "The reason there are differences in the absorption coefficient is because different sources emit radiation with varying energies and wavelengths which can interact with the material differently. Factors include the energy and wavelength of the radiation, which may penetrate the material differently. The type of radiation can also impact this coefficient, as alpha particles may not penetrate as deeply as beta or gamma radiation. In general, higher energy radiation can penetrate deeper into a material and the absorption coefficient will be low.\n",
    "\n",
    "Other factors such as the density, the chemical composition will also affect the absorption coefficient."
   ]
  }
 ],
 "metadata": {
  "kernelspec": {
   "display_name": "Python 3 (ipykernel)",
   "language": "python",
   "name": "python3"
  },
  "language_info": {
   "codemirror_mode": {
    "name": "ipython",
    "version": 3
   },
   "file_extension": ".py",
   "mimetype": "text/x-python",
   "name": "python",
   "nbconvert_exporter": "python",
   "pygments_lexer": "ipython3",
   "version": "3.9.12"
  }
 },
 "nbformat": 4,
 "nbformat_minor": 5
}
