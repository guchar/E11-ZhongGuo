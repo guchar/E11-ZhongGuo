{
 "cells": [
  {
   "cell_type": "code",
   "execution_count": 1,
   "id": "d981bce0",
   "metadata": {},
   "outputs": [
    {
     "data": {
      "text/html": [
       "<div>\n",
       "<style scoped>\n",
       "    .dataframe tbody tr th:only-of-type {\n",
       "        vertical-align: middle;\n",
       "    }\n",
       "\n",
       "    .dataframe tbody tr th {\n",
       "        vertical-align: top;\n",
       "    }\n",
       "\n",
       "    .dataframe thead th {\n",
       "        text-align: right;\n",
       "    }\n",
       "</style>\n",
       "<table border=\"1\" class=\"dataframe\">\n",
       "  <thead>\n",
       "    <tr style=\"text-align: right;\">\n",
       "      <th></th>\n",
       "      <th>Timestamp</th>\n",
       "      <th>PM 1.0</th>\n",
       "      <th>PM 2.5</th>\n",
       "      <th>PM 10</th>\n",
       "      <th>Temperature</th>\n",
       "      <th>Gas</th>\n",
       "      <th>Humidity</th>\n",
       "      <th>Pressure</th>\n",
       "      <th>Altitude</th>\n",
       "    </tr>\n",
       "  </thead>\n",
       "  <tbody>\n",
       "    <tr>\n",
       "      <th>0</th>\n",
       "      <td>1.676508e+09</td>\n",
       "      <td>0</td>\n",
       "      <td>0</td>\n",
       "      <td>1</td>\n",
       "      <td>22.477656</td>\n",
       "      <td>59920</td>\n",
       "      <td>20.111729</td>\n",
       "      <td>1012.453568</td>\n",
       "      <td>6.632956</td>\n",
       "    </tr>\n",
       "    <tr>\n",
       "      <th>1</th>\n",
       "      <td>1.676508e+09</td>\n",
       "      <td>0</td>\n",
       "      <td>0</td>\n",
       "      <td>1</td>\n",
       "      <td>22.497383</td>\n",
       "      <td>10075</td>\n",
       "      <td>20.107766</td>\n",
       "      <td>1012.465545</td>\n",
       "      <td>6.533171</td>\n",
       "    </tr>\n",
       "    <tr>\n",
       "      <th>2</th>\n",
       "      <td>1.676508e+09</td>\n",
       "      <td>0</td>\n",
       "      <td>0</td>\n",
       "      <td>1</td>\n",
       "      <td>22.538008</td>\n",
       "      <td>12824</td>\n",
       "      <td>20.105035</td>\n",
       "      <td>1012.465958</td>\n",
       "      <td>6.529735</td>\n",
       "    </tr>\n",
       "    <tr>\n",
       "      <th>3</th>\n",
       "      <td>1.676508e+09</td>\n",
       "      <td>0</td>\n",
       "      <td>0</td>\n",
       "      <td>1</td>\n",
       "      <td>22.578437</td>\n",
       "      <td>14428</td>\n",
       "      <td>20.066414</td>\n",
       "      <td>1012.454092</td>\n",
       "      <td>6.628584</td>\n",
       "    </tr>\n",
       "    <tr>\n",
       "      <th>4</th>\n",
       "      <td>1.676508e+09</td>\n",
       "      <td>0</td>\n",
       "      <td>0</td>\n",
       "      <td>1</td>\n",
       "      <td>22.614180</td>\n",
       "      <td>15570</td>\n",
       "      <td>20.012154</td>\n",
       "      <td>1012.454565</td>\n",
       "      <td>6.624647</td>\n",
       "    </tr>\n",
       "  </tbody>\n",
       "</table>\n",
       "</div>"
      ],
      "text/plain": [
       "      Timestamp  PM 1.0  PM 2.5  PM 10  Temperature    Gas   Humidity  \\\n",
       "0  1.676508e+09       0       0      1    22.477656  59920  20.111729   \n",
       "1  1.676508e+09       0       0      1    22.497383  10075  20.107766   \n",
       "2  1.676508e+09       0       0      1    22.538008  12824  20.105035   \n",
       "3  1.676508e+09       0       0      1    22.578437  14428  20.066414   \n",
       "4  1.676508e+09       0       0      1    22.614180  15570  20.012154   \n",
       "\n",
       "      Pressure  Altitude  \n",
       "0  1012.453568  6.632956  \n",
       "1  1012.465545  6.533171  \n",
       "2  1012.465958  6.529735  \n",
       "3  1012.454092  6.628584  \n",
       "4  1012.454565  6.624647  "
      ]
     },
     "execution_count": 1,
     "metadata": {},
     "output_type": "execute_result"
    }
   ],
   "source": [
    "import numpy as np\n",
    "import pandas as pd\n",
    "import matplotlib.pyplot as plt\n",
    "from scipy.stats import binom\n",
    "from scipy.stats import poisson\n",
    "from scipy.stats import norm\n",
    "import time\n",
    "from IPython import display\n",
    "\n",
    "df = pd.read_csv(\"/Users/charliegu_1/Documents/GitHub/E11-ZhongGuo/file_second\")\n",
    "df.head()"
   ]
  },
  {
   "cell_type": "markdown",
   "id": "0ac772c8",
   "metadata": {},
   "source": [
    "## Step 3: Plotting Inside Data"
   ]
  },
  {
   "cell_type": "code",
   "execution_count": 2,
   "id": "d80f08ee",
   "metadata": {},
   "outputs": [
    {
     "name": "stderr",
     "output_type": "stream",
     "text": [
      "/Users/charliegu_1/opt/anaconda3/lib/python3.9/site-packages/scipy/stats/_distn_infrastructure.py:1870: RuntimeWarning: invalid value encountered in true_divide\n",
      "  x = np.asarray((x - loc)/scale, dtype=dtyp)\n"
     ]
    },
    {
     "data": {
      "text/plain": [
       "[<matplotlib.lines.Line2D at 0x7fdb58c9b7c0>]"
      ]
     },
     "execution_count": 2,
     "metadata": {},
     "output_type": "execute_result"
    },
    {
     "data": {
      "image/png": "[encoded data removed]",
      "text/plain": [
       "<Figure size 432x288 with 1 Axes>"
      ]
     },
     "metadata": {
      "needs_background": "light"
     },
     "output_type": "display_data"
    }
   ],
   "source": [
    "one_mean = np.mean(df['PM 1.0'])\n",
    "one_std = np.std(df['PM 1.0'])\n",
    "\n",
    "one_x = np.linspace(one_mean - 5 * one_std, one_mean + 5* one_std, 100)\n",
    "one_y = norm.pdf(one_x, one_mean, one_std)\n",
    "\n",
    "plt.hist(df['PM 1.0'], density = True)\n",
    "plt.xlabel(\"PM 1.0\")\n",
    "plt.ylabel(\"Frequency\")\n",
    "plt.plot(one_x, one_y, label=\"P(x)\")"
   ]
  },
  {
   "cell_type": "code",
   "execution_count": 3,
   "id": "5eb18567",
   "metadata": {},
   "outputs": [
    {
     "name": "stderr",
     "output_type": "stream",
     "text": [
      "/Users/charliegu_1/opt/anaconda3/lib/python3.9/site-packages/scipy/stats/_distn_infrastructure.py:1870: RuntimeWarning: invalid value encountered in true_divide\n",
      "  x = np.asarray((x - loc)/scale, dtype=dtyp)\n"
     ]
    },
    {
     "data": {
      "text/plain": [
       "[<matplotlib.lines.Line2D at 0x7fdb6857b8e0>]"
      ]
     },
     "execution_count": 3,
     "metadata": {},
     "output_type": "execute_result"
    },
    {
     "data": {
      "image/png": "[encoded data removed]",
      "text/plain": [
       "<Figure size 432x288 with 1 Axes>"
      ]
     },
     "metadata": {
      "needs_background": "light"
     },
     "output_type": "display_data"
    }
   ],
   "source": [
    "mid_mean = np.mean(df['PM 2.5'])\n",
    "mid_std = np.std(df['PM 2.5'])\n",
    "\n",
    "mid_x = np.linspace(mid_mean - 5 * mid_std, mid_mean + 5* mid_std, 100)\n",
    "mid_y = norm.pdf(mid_x, mid_mean, mid_std)\n",
    "\n",
    "plt.hist(df['PM 2.5'], density = True)\n",
    "plt.xlabel(\"PM 2.5\")\n",
    "plt.ylabel(\"Frequency\")\n",
    "plt.plot(mid_x, mid_y, label=\"P(x)\")"
   ]
  },
  {
   "cell_type": "code",
   "execution_count": 4,
   "id": "5b90aa78",
   "metadata": {},
   "outputs": [
    {
     "data": {
      "text/plain": [
       "[<matplotlib.lines.Line2D at 0x7fdb58c1ae50>]"
      ]
     },
     "execution_count": 4,
     "metadata": {},
     "output_type": "execute_result"
    },
    {
     "data": {
      "image/png": "[encoded data removed]",
      "text/plain": [
       "<Figure size 432x288 with 1 Axes>"
      ]
     },
     "metadata": {
      "needs_background": "light"
     },
     "output_type": "display_data"
    }
   ],
   "source": [
    "ten_mean = np.mean(df['PM 10'])\n",
    "ten_std = np.std(df['PM 10'])\n",
    "\n",
    "ten_x = np.linspace(ten_mean - 5 * ten_std, ten_mean + 5* ten_std, 100)\n",
    "ten_y = norm.pdf(ten_x, ten_mean, ten_std)\n",
    "\n",
    "plt.hist(df['PM 10'], density = True)\n",
    "plt.xlabel(\"PM 10\")\n",
    "plt.ylabel(\"Frequency\")\n",
    "plt.plot(ten_x, ten_y, label=\"P(x)\")"
   ]
  },
  {
   "cell_type": "code",
   "execution_count": 5,
   "id": "92eddad0",
   "metadata": {},
   "outputs": [
    {
     "data": {
      "text/plain": [
       "[<matplotlib.lines.Line2D at 0x7fdb883e4550>]"
      ]
     },
     "execution_count": 5,
     "metadata": {},
     "output_type": "execute_result"
    },
    {
     "data": {
      "image/png": "[encoded data removed]",
      "text/plain": [
       "<Figure size 432x288 with 1 Axes>"
      ]
     },
     "metadata": {
      "needs_background": "light"
     },
     "output_type": "display_data"
    }
   ],
   "source": [
    "temp_mean = np.mean(df['Temperature'])\n",
    "temp_std = np.std(df['Temperature'])\n",
    "\n",
    "temp_x = np.linspace(temp_mean - 5 * temp_std, temp_mean + 5* temp_std, 100)\n",
    "temp_y = norm.pdf(temp_x, temp_mean, temp_std)\n",
    "\n",
    "\n",
    "plt.hist(df['Temperature'], density = True)\n",
    "plt.xlabel(\"Temperature\")\n",
    "plt.ylabel(\"Frequency\")\n",
    "plt.plot(temp_x, temp_y, label=\"P(x)\")\n"
   ]
  },
  {
   "cell_type": "code",
   "execution_count": 6,
   "id": "66f22acd",
   "metadata": {},
   "outputs": [
    {
     "data": {
      "text/plain": [
       "[<matplotlib.lines.Line2D at 0x7fdb7bcf0ee0>]"
      ]
     },
     "execution_count": 6,
     "metadata": {},
     "output_type": "execute_result"
    },
    {
     "data": {
      "image/png": "[encoded data removed]",
      "text/plain": [
       "<Figure size 432x288 with 1 Axes>"
      ]
     },
     "metadata": {
      "needs_background": "light"
     },
     "output_type": "display_data"
    }
   ],
   "source": [
    "gas_mean = np.mean(df['Gas'])\n",
    "gas_std = np.std(df['Gas'])\n",
    "\n",
    "gas_x = np.linspace(gas_mean - 5 * gas_std, gas_mean + 5* gas_std, 100)\n",
    "gas_y = norm.pdf(gas_x, gas_mean, gas_std)\n",
    "\n",
    "\n",
    "plt.hist(df['Gas'], density = True)\n",
    "plt.xlabel(\"Gas\")\n",
    "plt.ylabel(\"Frequency\")\n",
    "plt.plot(gas_x, gas_y, label=\"P(x)\")\n"
   ]
  },
  {
   "cell_type": "code",
   "execution_count": 7,
   "id": "c46d90af",
   "metadata": {},
   "outputs": [
    {
     "data": {
      "text/plain": [
       "[<matplotlib.lines.Line2D at 0x7fdb88420c40>]"
      ]
     },
     "execution_count": 7,
     "metadata": {},
     "output_type": "execute_result"
    },
    {
     "data": {
      "image/png": "[encoded data removed]",
      "text/plain": [
       "<Figure size 432x288 with 1 Axes>"
      ]
     },
     "metadata": {
      "needs_background": "light"
     },
     "output_type": "display_data"
    }
   ],
   "source": [
    "humid_mean = np.mean(df['Humidity'])\n",
    "humid_std = np.std(df['Humidity'])\n",
    "\n",
    "humid_x = np.linspace(humid_mean - 5 * humid_std, humid_mean + 5* humid_std, 100)\n",
    "humid_y = norm.pdf(humid_x, humid_mean, humid_std)\n",
    "\n",
    "\n",
    "plt.hist(df['Humidity'], density = True)\n",
    "plt.xlabel(\"Humidity\")\n",
    "plt.ylabel(\"Frequency\")\n",
    "plt.plot(humid_x, humid_y, label=\"P(x)\")\n"
   ]
  },
  {
   "cell_type": "code",
   "execution_count": 8,
   "id": "a3538c31",
   "metadata": {},
   "outputs": [
    {
     "data": {
      "text/plain": [
       "[<matplotlib.lines.Line2D at 0x7fdb8845cbb0>]"
      ]
     },
     "execution_count": 8,
     "metadata": {},
     "output_type": "execute_result"
    },
    {
     "data": {
      "image/png": "[encoded data removed]",
      "text/plain": [
       "<Figure size 432x288 with 1 Axes>"
      ]
     },
     "metadata": {
      "needs_background": "light"
     },
     "output_type": "display_data"
    }
   ],
   "source": [
    "pressure_mean = np.mean(df['Pressure'])\n",
    "pressure_std = np.std(df['Pressure'])\n",
    "\n",
    "pressure_x = np.linspace(pressure_mean - 5 * pressure_std, pressure_mean + 5* pressure_std, 100)\n",
    "pressure_y = norm.pdf(pressure_x, pressure_mean, pressure_std)\n",
    "\n",
    "\n",
    "plt.hist(df['Pressure'], density = True)\n",
    "plt.xlabel(\"Pressure\")\n",
    "plt.ylabel(\"Frequency\")\n",
    "plt.plot(pressure_x, pressure_y, label=\"P(x)\")"
   ]
  },
  {
   "cell_type": "code",
   "execution_count": 9,
   "id": "780d7738",
   "metadata": {},
   "outputs": [
    {
     "data": {
      "text/plain": [
       "1012.4283545361208"
      ]
     },
     "execution_count": 9,
     "metadata": {},
     "output_type": "execute_result"
    }
   ],
   "source": [
    "pressure_mean"
   ]
  },
  {
   "cell_type": "code",
   "execution_count": 10,
   "id": "8914d51b",
   "metadata": {},
   "outputs": [
    {
     "data": {
      "text/plain": [
       "[<matplotlib.lines.Line2D at 0x7fdb684351c0>]"
      ]
     },
     "execution_count": 10,
     "metadata": {},
     "output_type": "execute_result"
    },
    {
     "data": {
      "image/png": "[encoded data removed]",
      "text/plain": [
       "<Figure size 432x288 with 1 Axes>"
      ]
     },
     "metadata": {
      "needs_background": "light"
     },
     "output_type": "display_data"
    }
   ],
   "source": [
    "alt_mean = np.mean(df['Altitude'])\n",
    "alt_std = np.std(df['Altitude'])\n",
    "\n",
    "alt_x = np.linspace(alt_mean - 5 * alt_std, alt_mean + 5* alt_std, 100)\n",
    "alt_y = norm.pdf(alt_x, alt_mean, alt_std)\n",
    "\n",
    "\n",
    "plt.hist(df['Altitude'], density = True)\n",
    "plt.xlabel(\"Altitude\")\n",
    "plt.ylabel(\"Frequency\")\n",
    "plt.plot(alt_x, alt_y, label=\"P(x)\")"
   ]
  },
  {
   "cell_type": "code",
   "execution_count": 11,
   "id": "88eef244",
   "metadata": {},
   "outputs": [
    {
     "data": {
      "text/html": [
       "<div>\n",
       "<style scoped>\n",
       "    .dataframe tbody tr th:only-of-type {\n",
       "        vertical-align: middle;\n",
       "    }\n",
       "\n",
       "    .dataframe tbody tr th {\n",
       "        vertical-align: top;\n",
       "    }\n",
       "\n",
       "    .dataframe thead th {\n",
       "        text-align: right;\n",
       "    }\n",
       "</style>\n",
       "<table border=\"1\" class=\"dataframe\">\n",
       "  <thead>\n",
       "    <tr style=\"text-align: right;\">\n",
       "      <th></th>\n",
       "      <th>Timestamp</th>\n",
       "      <th>PM 1.0</th>\n",
       "      <th>PM 2.5</th>\n",
       "      <th>PM 10</th>\n",
       "      <th>Temperature</th>\n",
       "      <th>Gas</th>\n",
       "      <th>Humidity</th>\n",
       "      <th>Pressure</th>\n",
       "      <th>Altitude</th>\n",
       "    </tr>\n",
       "  </thead>\n",
       "  <tbody>\n",
       "    <tr>\n",
       "      <th>0</th>\n",
       "      <td>1.677107e+09</td>\n",
       "      <td>0</td>\n",
       "      <td>1</td>\n",
       "      <td>1</td>\n",
       "      <td>19.211641</td>\n",
       "      <td>30293</td>\n",
       "      <td>25.673435</td>\n",
       "      <td>997.334957</td>\n",
       "      <td>133.354272</td>\n",
       "    </tr>\n",
       "    <tr>\n",
       "      <th>1</th>\n",
       "      <td>1.677107e+09</td>\n",
       "      <td>0</td>\n",
       "      <td>1</td>\n",
       "      <td>1</td>\n",
       "      <td>19.234492</td>\n",
       "      <td>4024</td>\n",
       "      <td>25.659078</td>\n",
       "      <td>997.336787</td>\n",
       "      <td>133.338841</td>\n",
       "    </tr>\n",
       "    <tr>\n",
       "      <th>2</th>\n",
       "      <td>1.677107e+09</td>\n",
       "      <td>0</td>\n",
       "      <td>1</td>\n",
       "      <td>1</td>\n",
       "      <td>19.282539</td>\n",
       "      <td>5459</td>\n",
       "      <td>25.619883</td>\n",
       "      <td>997.354622</td>\n",
       "      <td>133.188436</td>\n",
       "    </tr>\n",
       "    <tr>\n",
       "      <th>3</th>\n",
       "      <td>1.677107e+09</td>\n",
       "      <td>0</td>\n",
       "      <td>1</td>\n",
       "      <td>1</td>\n",
       "      <td>19.329219</td>\n",
       "      <td>6931</td>\n",
       "      <td>25.564631</td>\n",
       "      <td>997.380281</td>\n",
       "      <td>132.972059</td>\n",
       "    </tr>\n",
       "    <tr>\n",
       "      <th>4</th>\n",
       "      <td>1.677107e+09</td>\n",
       "      <td>0</td>\n",
       "      <td>1</td>\n",
       "      <td>1</td>\n",
       "      <td>19.371016</td>\n",
       "      <td>8077</td>\n",
       "      <td>25.498409</td>\n",
       "      <td>997.419615</td>\n",
       "      <td>132.640368</td>\n",
       "    </tr>\n",
       "  </tbody>\n",
       "</table>\n",
       "</div>"
      ],
      "text/plain": [
       "      Timestamp  PM 1.0  PM 2.5  PM 10  Temperature    Gas   Humidity  \\\n",
       "0  1.677107e+09       0       1      1    19.211641  30293  25.673435   \n",
       "1  1.677107e+09       0       1      1    19.234492   4024  25.659078   \n",
       "2  1.677107e+09       0       1      1    19.282539   5459  25.619883   \n",
       "3  1.677107e+09       0       1      1    19.329219   6931  25.564631   \n",
       "4  1.677107e+09       0       1      1    19.371016   8077  25.498409   \n",
       "\n",
       "     Pressure    Altitude  \n",
       "0  997.334957  133.354272  \n",
       "1  997.336787  133.338841  \n",
       "2  997.354622  133.188436  \n",
       "3  997.380281  132.972059  \n",
       "4  997.419615  132.640368  "
      ]
     },
     "execution_count": 11,
     "metadata": {},
     "output_type": "execute_result"
    }
   ],
   "source": [
    "df2 = pd.read_csv(\"/Users/charliegu_1/Documents/GitHub/E11-ZhongGuo/outdoor_data\")\n",
    "df2.head()"
   ]
  },
  {
   "cell_type": "markdown",
   "id": "ad7b975e",
   "metadata": {},
   "source": [
    "## Step 4: Plotting Outside Data"
   ]
  },
  {
   "cell_type": "code",
   "execution_count": 12,
   "id": "8df4adb3",
   "metadata": {},
   "outputs": [
    {
     "data": {
      "text/plain": [
       "[<matplotlib.lines.Line2D at 0x7fdb685f97c0>]"
      ]
     },
     "execution_count": 12,
     "metadata": {},
     "output_type": "execute_result"
    },
    {
     "data": {
      "image/png": "[encoded data removed]",
      "text/plain": [
       "<Figure size 432x288 with 1 Axes>"
      ]
     },
     "metadata": {
      "needs_background": "light"
     },
     "output_type": "display_data"
    }
   ],
   "source": [
    "one_mean2 = np.mean(df2['PM 1.0'])\n",
    "one_std2 = np.std(df2['PM 1.0'])\n",
    "\n",
    "one_x2 = np.linspace(one_mean2 - 5 * one_std2, one_mean2 + 5* one_std2, 100)\n",
    "one_y2 = norm.pdf(one_x2, one_mean2, one_std2)\n",
    "\n",
    "plt.hist(df2['PM 1.0'], density = True)\n",
    "plt.xlabel(\"PM 1.0\")\n",
    "plt.ylabel(\"Frequency\")\n",
    "plt.plot(one_x2, one_y2, label=\"P(x)\")"
   ]
  },
  {
   "cell_type": "code",
   "execution_count": 13,
   "id": "41aa7f7d",
   "metadata": {},
   "outputs": [
    {
     "data": {
      "text/plain": [
       "[<matplotlib.lines.Line2D at 0x7fdb6863b940>]"
      ]
     },
     "execution_count": 13,
     "metadata": {},
     "output_type": "execute_result"
    },
    {
     "data": {
      "image/png": "[encoded data removed]",
      "text/plain": [
       "<Figure size 432x288 with 1 Axes>"
      ]
     },
     "metadata": {
      "needs_background": "light"
     },
     "output_type": "display_data"
    }
   ],
   "source": [
    "mid_mean2 = np.mean(df2['PM 2.5'])\n",
    "mid_std2 = np.std(df2['PM 2.5'])\n",
    "\n",
    "mid_x2 = np.linspace(mid_mean2 - 5 * mid_std2, mid_mean2 + 5* mid_std2, 100)\n",
    "mid_y2 = norm.pdf(mid_x2, mid_mean2, mid_std2)\n",
    "\n",
    "plt.hist(df2['PM 2.5'], density = True)\n",
    "plt.xlabel(\"PM 2.5\")\n",
    "plt.ylabel(\"Frequency\")\n",
    "plt.plot(mid_x2, mid_y2, label=\"P(x)\")"
   ]
  },
  {
   "cell_type": "code",
   "execution_count": 14,
   "id": "93c2b949",
   "metadata": {},
   "outputs": [
    {
     "data": {
      "text/plain": [
       "[<matplotlib.lines.Line2D at 0x7fdb6879fdc0>]"
      ]
     },
     "execution_count": 14,
     "metadata": {},
     "output_type": "execute_result"
    },
    {
     "data": {
      "image/png": "[encoded data removed]",
      "text/plain": [
       "<Figure size 432x288 with 1 Axes>"
      ]
     },
     "metadata": {
      "needs_background": "light"
     },
     "output_type": "display_data"
    }
   ],
   "source": [
    "ten_mean2 = np.mean(df2['PM 10'])\n",
    "ten_std2 = np.std(df2['PM 10'])\n",
    "\n",
    "ten_x2 = np.linspace(ten_mean2 - 5 * ten_std2, ten_mean2 + 5* ten_std2, 100)\n",
    "ten_y2 = norm.pdf(ten_x2, ten_mean2, ten_std2)\n",
    "\n",
    "plt.hist(df2['PM 10'], density = True)\n",
    "plt.xlabel(\"PM 10\")\n",
    "plt.ylabel(\"Frequency\")\n",
    "plt.plot(ten_x2, ten_y2, label=\"P(x)\")"
   ]
  },
  {
   "cell_type": "code",
   "execution_count": 15,
   "id": "53bb27ee",
   "metadata": {},
   "outputs": [
    {
     "data": {
      "text/plain": [
       "[<matplotlib.lines.Line2D at 0x7fdb7bec3790>]"
      ]
     },
     "execution_count": 15,
     "metadata": {},
     "output_type": "execute_result"
    },
    {
     "data": {
      "image/png": "[encoded data removed]",
      "text/plain": [
       "<Figure size 432x288 with 1 Axes>"
      ]
     },
     "metadata": {
      "needs_background": "light"
     },
     "output_type": "display_data"
    }
   ],
   "source": [
    "temp_mean2 = np.mean(df2['Temperature'])\n",
    "temp_std2 = np.std(df2['Temperature'])\n",
    "\n",
    "temp_x2 = np.linspace(temp_mean2 - 5 * temp_std2, temp_mean2 + 5* temp_std2, 100)\n",
    "temp_y2 = norm.pdf(temp_x2, temp_mean2, temp_std2)\n",
    "\n",
    "\n",
    "plt.hist(df2['Temperature'], density = True)\n",
    "plt.xlabel(\"Temperature\")\n",
    "plt.ylabel(\"Frequency\")\n",
    "plt.plot(temp_x2, temp_y2, label=\"P(x)\")"
   ]
  },
  {
   "cell_type": "code",
   "execution_count": 16,
   "id": "eec6bd1a",
   "metadata": {},
   "outputs": [
    {
     "data": {
      "text/plain": [
       "[<matplotlib.lines.Line2D at 0x7fdb58d33700>]"
      ]
     },
     "execution_count": 16,
     "metadata": {},
     "output_type": "execute_result"
    },
    {
     "data": {
      "image/png": "[encoded data removed]",
      "text/plain": [
       "<Figure size 432x288 with 1 Axes>"
      ]
     },
     "metadata": {
      "needs_background": "light"
     },
     "output_type": "display_data"
    }
   ],
   "source": [
    "gas_mean2 = np.mean(df2['Gas'])\n",
    "gas_std2 = np.std(df2['Gas'])\n",
    "\n",
    "gas_x2 = np.linspace(gas_mean2 - 5 * gas_std2, gas_mean2 + 5* gas_std2, 100)\n",
    "gas_y2 = norm.pdf(gas_x2, gas_mean2, gas_std2)\n",
    "\n",
    "\n",
    "plt.hist(df2['Gas'], density = True)\n",
    "plt.xlabel(\"Gas\")\n",
    "plt.ylabel(\"Frequency\")\n",
    "plt.plot(gas_x2, gas_y2, label=\"P(x)\")"
   ]
  },
  {
   "cell_type": "code",
   "execution_count": 17,
   "id": "2c5d0b94",
   "metadata": {},
   "outputs": [
    {
     "data": {
      "text/plain": [
       "[<matplotlib.lines.Line2D at 0x7fdb688fa6a0>]"
      ]
     },
     "execution_count": 17,
     "metadata": {},
     "output_type": "execute_result"
    },
    {
     "data": {
      "image/png": "[encoded data removed]",
      "text/plain": [
       "<Figure size 432x288 with 1 Axes>"
      ]
     },
     "metadata": {
      "needs_background": "light"
     },
     "output_type": "display_data"
    }
   ],
   "source": [
    "humid_mean2 = np.mean(df2['Humidity'])\n",
    "humid_std2 = np.std(df2['Humidity'])\n",
    "\n",
    "humid_x2 = np.linspace(humid_mean2 - 5 * humid_std2, humid_mean2 + 5* humid_std2, 100)\n",
    "humid_y2 = norm.pdf(humid_x2, humid_mean2, humid_std2)\n",
    "\n",
    "\n",
    "plt.hist(df2['Humidity'], density = True)\n",
    "plt.xlabel(\"Humidity\")\n",
    "plt.ylabel(\"Frequency\")\n",
    "plt.plot(humid_x2, humid_y2, label=\"P(x)\")\n"
   ]
  },
  {
   "cell_type": "code",
   "execution_count": 18,
   "id": "8a52d17f",
   "metadata": {},
   "outputs": [
    {
     "data": {
      "text/plain": [
       "[<matplotlib.lines.Line2D at 0x7fdb6892fa90>]"
      ]
     },
     "execution_count": 18,
     "metadata": {},
     "output_type": "execute_result"
    },
    {
     "data": {
      "image/png": "[encoded data removed]",
      "text/plain": [
       "<Figure size 432x288 with 1 Axes>"
      ]
     },
     "metadata": {
      "needs_background": "light"
     },
     "output_type": "display_data"
    }
   ],
   "source": [
    "pressure_mean2 = np.mean(df2['Pressure'])\n",
    "pressure_std2 = np.std(df2['Pressure'])\n",
    "\n",
    "pressure_x2 = np.linspace(pressure_mean2 - 5 * pressure_std2, pressure_mean2 + 5* pressure_std2, 100)\n",
    "pressure_y2 = norm.pdf(pressure_x2, pressure_mean2, pressure_std2)\n",
    "\n",
    "\n",
    "plt.hist(df2['Pressure'], density = True)\n",
    "plt.xlabel(\"Pressure\")\n",
    "plt.ylabel(\"Frequency\")\n",
    "plt.plot(pressure_x2, pressure_y2, label=\"P(x)\")"
   ]
  },
  {
   "cell_type": "code",
   "execution_count": 19,
   "id": "c84efbd5",
   "metadata": {},
   "outputs": [
    {
     "data": {
      "text/plain": [
       "[<matplotlib.lines.Line2D at 0x7fdb58e6f7c0>]"
      ]
     },
     "execution_count": 19,
     "metadata": {},
     "output_type": "execute_result"
    },
    {
     "data": {
      "image/png": "[encoded data removed]",
      "text/plain": [
       "<Figure size 432x288 with 1 Axes>"
      ]
     },
     "metadata": {
      "needs_background": "light"
     },
     "output_type": "display_data"
    }
   ],
   "source": [
    "alt_mean2 = np.mean(df2['Altitude'])\n",
    "alt_std2 = np.std(df2['Altitude'])\n",
    "\n",
    "alt_x2 = np.linspace(alt_mean2 - 5 * alt_std2, alt_mean2 + 5* alt_std2, 100)\n",
    "alt_y2 = norm.pdf(alt_x2, alt_mean2, alt_std2)\n",
    "\n",
    "\n",
    "plt.hist(df2['Altitude'], density = True)\n",
    "plt.xlabel(\"Altitude\")\n",
    "plt.ylabel(\"Frequency\")\n",
    "plt.plot(alt_x2, alt_y2, label=\"P(x)\")"
   ]
  },
  {
   "cell_type": "markdown",
   "id": "dfad156f",
   "metadata": {},
   "source": [
    "### Step 4b: Compare indoor and outdoor"
   ]
  },
  {
   "cell_type": "code",
   "execution_count": 20,
   "id": "b65ed8e6",
   "metadata": {},
   "outputs": [
    {
     "data": {
      "text/plain": [
       "<matplotlib.legend.Legend at 0x7fdb7bed5d90>"
      ]
     },
     "execution_count": 20,
     "metadata": {},
     "output_type": "execute_result"
    },
    {
     "data": {
      "image/png": "[encoded data removed]",
      "text/plain": [
       "<Figure size 432x288 with 1 Axes>"
      ]
     },
     "metadata": {
      "needs_background": "light"
     },
     "output_type": "display_data"
    }
   ],
   "source": [
    "plt.hist(df['PM 1.0'], density = True)\n",
    "plt.xlabel(\"PM 1.0\")\n",
    "plt.ylabel(\"Frequency\")\n",
    "plt.plot(one_x, one_y, label=\"Inside\")\n",
    "\n",
    "plt.hist(df2['PM 1.0'], density = True)\n",
    "plt.xlabel(\"PM 1.0\")\n",
    "plt.ylabel(\"Frequency\")\n",
    "plt.plot(one_x2, one_y2, label=\"Outside\")\n",
    "plt.legend()"
   ]
  },
  {
   "cell_type": "code",
   "execution_count": 21,
   "id": "2fa0152f",
   "metadata": {},
   "outputs": [
    {
     "data": {
      "text/plain": [
       "[<matplotlib.lines.Line2D at 0x7fdb59160c40>]"
      ]
     },
     "execution_count": 21,
     "metadata": {},
     "output_type": "execute_result"
    },
    {
     "data": {
      "image/png": "[encoded data removed]",
      "text/plain": [
       "<Figure size 432x288 with 1 Axes>"
      ]
     },
     "metadata": {
      "needs_background": "light"
     },
     "output_type": "display_data"
    }
   ],
   "source": [
    "plt.hist(df['PM 2.5'], density = True)\n",
    "plt.xlabel(\"PM 2.5\")\n",
    "plt.ylabel(\"Frequency\")\n",
    "plt.plot(mid_x, mid_y, label=\"P(x)\")\n",
    "\n",
    "plt.hist(df2['PM 2.5'], density = True)\n",
    "plt.xlabel(\"PM 2.5\")\n",
    "plt.ylabel(\"Frequency\")\n",
    "plt.plot(mid_x2, mid_y2, label=\"P(x)\")"
   ]
  },
  {
   "cell_type": "code",
   "execution_count": 22,
   "id": "f7948946",
   "metadata": {},
   "outputs": [
    {
     "data": {
      "text/plain": [
       "<matplotlib.legend.Legend at 0x7fdb591e7640>"
      ]
     },
     "execution_count": 22,
     "metadata": {},
     "output_type": "execute_result"
    },
    {
     "data": {
      "image/png": "[encoded data removed]",
      "text/plain": [
       "<Figure size 432x288 with 1 Axes>"
      ]
     },
     "metadata": {
      "needs_background": "light"
     },
     "output_type": "display_data"
    }
   ],
   "source": [
    "plt.hist(df['PM 10'], density = True)\n",
    "plt.xlabel(\"PM 10\")\n",
    "plt.ylabel(\"Frequency\")\n",
    "plt.plot(ten_x, ten_y, label=\"Inside\")\n",
    "\n",
    "plt.hist(df2['PM 10'], density = True)\n",
    "plt.xlabel(\"PM 10\")\n",
    "plt.ylabel(\"Frequency\")\n",
    "plt.plot(ten_x2, ten_y2, label=\"Outside\")\n",
    "plt.legend()"
   ]
  },
  {
   "cell_type": "code",
   "execution_count": 23,
   "id": "76a88041",
   "metadata": {},
   "outputs": [
    {
     "data": {
      "text/plain": [
       "<matplotlib.legend.Legend at 0x7fdb68adc520>"
      ]
     },
     "execution_count": 23,
     "metadata": {},
     "output_type": "execute_result"
    },
    {
     "data": {
      "image/png": "[encoded data removed]",
      "text/plain": [
       "<Figure size 432x288 with 1 Axes>"
      ]
     },
     "metadata": {
      "needs_background": "light"
     },
     "output_type": "display_data"
    }
   ],
   "source": [
    "plt.hist(df['Temperature'], density = True)\n",
    "plt.xlabel(\"Temperature\")\n",
    "plt.ylabel(\"Frequency\")\n",
    "plt.plot(temp_x, temp_y, label=\"Inside\")\n",
    "\n",
    "plt.hist(df2['Temperature'], density = True)\n",
    "plt.xlabel(\"Temperature\")\n",
    "plt.ylabel(\"Frequency\")\n",
    "plt.plot(temp_x2, temp_y2, label=\"Outside\")\n",
    "plt.legend()"
   ]
  },
  {
   "cell_type": "code",
   "execution_count": 24,
   "id": "dd4e136c",
   "metadata": {},
   "outputs": [
    {
     "data": {
      "text/plain": [
       "<matplotlib.legend.Legend at 0x7fdb59378b50>"
      ]
     },
     "execution_count": 24,
     "metadata": {},
     "output_type": "execute_result"
    },
    {
     "data": {
      "image/png": "[encoded data removed]",
      "text/plain": [
       "<Figure size 432x288 with 1 Axes>"
      ]
     },
     "metadata": {
      "needs_background": "light"
     },
     "output_type": "display_data"
    }
   ],
   "source": [
    "plt.hist(df['Gas'], density = True)\n",
    "plt.xlabel(\"Gas\")\n",
    "plt.ylabel(\"Frequency\")\n",
    "plt.plot(gas_x, gas_y, label=\"Inside\")\n",
    "\n",
    "plt.hist(df2['Gas'], density = True)\n",
    "plt.xlabel(\"Gas\")\n",
    "plt.ylabel(\"Frequency\")\n",
    "plt.plot(gas_x2, gas_y2, label=\"Outside\")\n",
    "plt.legend()"
   ]
  },
  {
   "cell_type": "code",
   "execution_count": 25,
   "id": "096fb45f",
   "metadata": {},
   "outputs": [
    {
     "data": {
      "text/plain": [
       "<matplotlib.legend.Legend at 0x7fdb593fa220>"
      ]
     },
     "execution_count": 25,
     "metadata": {},
     "output_type": "execute_result"
    },
    {
     "data": {
      "image/png": "[encoded data removed]",
      "text/plain": [
       "<Figure size 432x288 with 1 Axes>"
      ]
     },
     "metadata": {
      "needs_background": "light"
     },
     "output_type": "display_data"
    }
   ],
   "source": [
    "plt.hist(df['Humidity'], density = True)\n",
    "plt.xlabel(\"Humidity\")\n",
    "plt.ylabel(\"Frequency\")\n",
    "plt.plot(humid_x, humid_y, label=\"Inside\")\n",
    "\n",
    "plt.hist(df2['Humidity'], density = True)\n",
    "plt.xlabel(\"Humidity\")\n",
    "plt.ylabel(\"Frequency\")\n",
    "plt.plot(humid_x2, humid_y2, label=\"Outside\")\n",
    "plt.legend()\n"
   ]
  },
  {
   "cell_type": "code",
   "execution_count": 26,
   "id": "96d176da",
   "metadata": {},
   "outputs": [
    {
     "data": {
      "text/plain": [
       "<matplotlib.legend.Legend at 0x7fdb88657040>"
      ]
     },
     "execution_count": 26,
     "metadata": {},
     "output_type": "execute_result"
    },
    {
     "data": {
      "image/png": "[encoded data removed]",
      "text/plain": [
       "<Figure size 432x288 with 1 Axes>"
      ]
     },
     "metadata": {
      "needs_background": "light"
     },
     "output_type": "display_data"
    }
   ],
   "source": [
    "plt.hist(df['Pressure'], density = True)\n",
    "plt.xlabel(\"Pressure\")\n",
    "plt.ylabel(\"Frequency\")\n",
    "plt.plot(pressure_x, pressure_y, label=\"Inside\")\n",
    "\n",
    "plt.hist(df2['Pressure'], density = True)\n",
    "plt.xlabel(\"Pressure\")\n",
    "plt.ylabel(\"Frequency\")\n",
    "plt.plot(pressure_x2, pressure_y2, label=\"Outside\")\n",
    "plt.legend()"
   ]
  },
  {
   "cell_type": "code",
   "execution_count": 27,
   "id": "c0214b04",
   "metadata": {},
   "outputs": [
    {
     "data": {
      "text/plain": [
       "<matplotlib.legend.Legend at 0x7fdb5949fa30>"
      ]
     },
     "execution_count": 27,
     "metadata": {},
     "output_type": "execute_result"
    },
    {
     "data": {
      "image/png": "[encoded data removed]",
      "text/plain": [
       "<Figure size 432x288 with 1 Axes>"
      ]
     },
     "metadata": {
      "needs_background": "light"
     },
     "output_type": "display_data"
    }
   ],
   "source": [
    "plt.hist(df['Altitude'], density = True)\n",
    "plt.xlabel(\"Altitude\")\n",
    "plt.ylabel(\"Frequency\")\n",
    "plt.plot(alt_x, alt_y, label=\"Inside\")\n",
    "\n",
    "plt.hist(df2['Altitude'], density = True)\n",
    "plt.xlabel(\"Altitude\")\n",
    "plt.ylabel(\"Frequency\")\n",
    "plt.plot(alt_x2, alt_y2, label=\"Outside\")\n",
    "plt.legend()"
   ]
  },
  {
   "cell_type": "markdown",
   "id": "3582bc63",
   "metadata": {},
   "source": [
    "### Step 4c: Are the means in agreement?"
   ]
  },
  {
   "cell_type": "markdown",
   "id": "79ea4dba",
   "metadata": {},
   "source": [
    "### Mean Uncertainty"
   ]
  },
  {
   "cell_type": "markdown",
   "id": "1e9632e7",
   "metadata": {},
   "source": [
    "Eq: std/sqrt(N) "
   ]
  },
  {
   "cell_type": "code",
   "execution_count": 28,
   "id": "8e87a811",
   "metadata": {},
   "outputs": [],
   "source": [
    "from math import sqrt"
   ]
  },
  {
   "cell_type": "markdown",
   "id": "98c5992c",
   "metadata": {},
   "source": [
    "#### Inside"
   ]
  },
  {
   "cell_type": "code",
   "execution_count": 29,
   "id": "5bc9e805",
   "metadata": {},
   "outputs": [
    {
     "name": "stdout",
     "output_type": "stream",
     "text": [
      "0.0\n"
     ]
    }
   ],
   "source": [
    "#PM 1.0\n",
    "\n",
    "one_uncertainty = one_std/sqrt(251)\n",
    "\n",
    "print(one_uncertainty)"
   ]
  },
  {
   "cell_type": "code",
   "execution_count": 30,
   "id": "f2bd9d06",
   "metadata": {},
   "outputs": [
    {
     "name": "stdout",
     "output_type": "stream",
     "text": [
      "0.0\n"
     ]
    }
   ],
   "source": [
    "#PM 1.5\n",
    "\n",
    "mid_uncertainty = mid_std/sqrt(251)\n",
    "\n",
    "print(mid_uncertainty)"
   ]
  },
  {
   "cell_type": "code",
   "execution_count": 31,
   "id": "0daca492",
   "metadata": {},
   "outputs": [
    {
     "name": "stdout",
     "output_type": "stream",
     "text": [
      "0.01586068015140926\n"
     ]
    }
   ],
   "source": [
    "#PM 10\n",
    "\n",
    "ten_uncertainty = ten_std/sqrt(251)\n",
    "\n",
    "print(ten_uncertainty)"
   ]
  },
  {
   "cell_type": "code",
   "execution_count": 32,
   "id": "d8995e4d",
   "metadata": {},
   "outputs": [
    {
     "name": "stdout",
     "output_type": "stream",
     "text": [
      "0.007750052577784402\n"
     ]
    }
   ],
   "source": [
    "#Temp\n",
    "\n",
    "temp_uncertainty = temp_std/sqrt(251)\n",
    "\n",
    "print(temp_uncertainty)"
   ]
  },
  {
   "cell_type": "code",
   "execution_count": 33,
   "id": "ae236017",
   "metadata": {},
   "outputs": [
    {
     "name": "stdout",
     "output_type": "stream",
     "text": [
      "428.10063985153533\n"
     ]
    }
   ],
   "source": [
    "#Gas\n",
    "\n",
    "gas_uncertainty = gas_std/sqrt(251)\n",
    "\n",
    "print(gas_uncertainty)"
   ]
  },
  {
   "cell_type": "code",
   "execution_count": 34,
   "id": "fbd6f4ef",
   "metadata": {
    "scrolled": true
   },
   "outputs": [
    {
     "name": "stdout",
     "output_type": "stream",
     "text": [
      "0.014825354362477599\n"
     ]
    }
   ],
   "source": [
    "#Humid\n",
    "\n",
    "humid_uncertainty = humid_std/sqrt(251)\n",
    "\n",
    "print(humid_uncertainty)"
   ]
  },
  {
   "cell_type": "code",
   "execution_count": 35,
   "id": "3f85f1b2",
   "metadata": {},
   "outputs": [
    {
     "name": "stdout",
     "output_type": "stream",
     "text": [
      "0.0009152839417618176\n"
     ]
    }
   ],
   "source": [
    "#Pressure\n",
    "\n",
    "pressure_uncertainty = pressure_std/sqrt(251)\n",
    "\n",
    "print(pressure_uncertainty)"
   ]
  },
  {
   "cell_type": "code",
   "execution_count": 36,
   "id": "090453a0",
   "metadata": {},
   "outputs": [
    {
     "name": "stdout",
     "output_type": "stream",
     "text": [
      "0.007625371265317615\n"
     ]
    }
   ],
   "source": [
    "#Altitude\n",
    "\n",
    "alt_uncertainty = alt_std/sqrt(251)\n",
    "\n",
    "print(alt_uncertainty)"
   ]
  },
  {
   "cell_type": "markdown",
   "id": "162c75e9",
   "metadata": {},
   "source": [
    "#### Outside"
   ]
  },
  {
   "cell_type": "code",
   "execution_count": 37,
   "id": "2ade9890",
   "metadata": {},
   "outputs": [
    {
     "name": "stdout",
     "output_type": "stream",
     "text": [
      "0.024823216520086587\n"
     ]
    }
   ],
   "source": [
    "#PM 1.0\n",
    "\n",
    "print(one_std2/sqrt(251))"
   ]
  },
  {
   "cell_type": "code",
   "execution_count": 38,
   "id": "d72fac0c",
   "metadata": {},
   "outputs": [
    {
     "name": "stdout",
     "output_type": "stream",
     "text": [
      "0.05520251553206822\n"
     ]
    }
   ],
   "source": [
    "#PM 1.5\n",
    "\n",
    "print(mid_std2/sqrt(251))"
   ]
  },
  {
   "cell_type": "code",
   "execution_count": 39,
   "id": "2c0e7607",
   "metadata": {},
   "outputs": [
    {
     "name": "stdout",
     "output_type": "stream",
     "text": [
      "0.05803173228766264\n"
     ]
    }
   ],
   "source": [
    "#PM 10\n",
    "\n",
    "print(ten_std2/sqrt(251))"
   ]
  },
  {
   "cell_type": "code",
   "execution_count": 40,
   "id": "52580708",
   "metadata": {},
   "outputs": [
    {
     "name": "stdout",
     "output_type": "stream",
     "text": [
      "0.13367375340926005\n"
     ]
    }
   ],
   "source": [
    "#Temp\n",
    "\n",
    "print(temp_std2/sqrt(251))"
   ]
  },
  {
   "cell_type": "code",
   "execution_count": 41,
   "id": "4d009281",
   "metadata": {},
   "outputs": [
    {
     "name": "stdout",
     "output_type": "stream",
     "text": [
      "526.1825499936774\n"
     ]
    }
   ],
   "source": [
    "#Gas\n",
    "\n",
    "print(gas_std2/sqrt(251))"
   ]
  },
  {
   "cell_type": "code",
   "execution_count": 42,
   "id": "8ccaae8e",
   "metadata": {},
   "outputs": [
    {
     "name": "stdout",
     "output_type": "stream",
     "text": [
      "0.13562764946771078\n"
     ]
    }
   ],
   "source": [
    "#Humid\n",
    "\n",
    "print(humid_std2/sqrt(251))"
   ]
  },
  {
   "cell_type": "code",
   "execution_count": 43,
   "id": "139d4a9e",
   "metadata": {},
   "outputs": [
    {
     "name": "stdout",
     "output_type": "stream",
     "text": [
      "0.0310161851326408\n"
     ]
    }
   ],
   "source": [
    "#Pressure\n",
    "\n",
    "print(pressure_std2/sqrt(251))"
   ]
  },
  {
   "cell_type": "code",
   "execution_count": 44,
   "id": "f3efa3b1",
   "metadata": {},
   "outputs": [
    {
     "name": "stdout",
     "output_type": "stream",
     "text": [
      "0.2616162809585072\n"
     ]
    }
   ],
   "source": [
    "#Altitude\n",
    "\n",
    "print(alt_std2/sqrt(251))"
   ]
  },
  {
   "cell_type": "markdown",
   "id": "43642d21",
   "metadata": {},
   "source": [
    "### How many inside mean standard deviations (1 sigma uncertainty) are your inside and outside measurements separated by?"
   ]
  },
  {
   "cell_type": "code",
   "execution_count": null,
   "id": "336f40e4",
   "metadata": {},
   "outputs": [],
   "source": [
    "#PM 1.0 and PM #1.5 -- both give errors due to the inside standard deviation being 0.\n",
    "\n",
    "one_var = abs((one_mean - one_mean2)/one_uncertainty)\n",
    "mid_var = abs((mid_mean - mid_mean2)/mid_uncertainty) "
   ]
  },
  {
   "cell_type": "markdown",
   "id": "735d48e7",
   "metadata": {},
   "source": [
    "The reason why both PM 1.0 and PM 1.5 having standard deviations of 0 is because the sensor was not sensitive enough to measure small variations in air quality, and therefore, the sensor readings were 0 for each measurement. "
   ]
  },
  {
   "cell_type": "code",
   "execution_count": null,
   "id": "557bd949",
   "metadata": {},
   "outputs": [],
   "source": [
    "#PM 10\n",
    "\n",
    "ten_var = abs((ten_mean - ten_mean2)/ten_uncertainty)\n",
    "print(ten_var, \"standard deviations\")"
   ]
  },
  {
   "cell_type": "code",
   "execution_count": null,
   "id": "05271d31",
   "metadata": {},
   "outputs": [],
   "source": [
    "#Temperature\n",
    "\n",
    "temp_var = abs((temp_mean - temp_mean2)/temp_uncertainty)\n",
    "print(temp_var, \"standard deviations\")"
   ]
  },
  {
   "cell_type": "code",
   "execution_count": null,
   "id": "d627aba5",
   "metadata": {},
   "outputs": [],
   "source": [
    "#Gas\n",
    "\n",
    "gas_var = abs((gas_mean - gas_mean2)/gas_uncertainty)\n",
    "print(gas_var, \"standard deviations\")"
   ]
  },
  {
   "cell_type": "code",
   "execution_count": null,
   "id": "c13823a4",
   "metadata": {},
   "outputs": [],
   "source": [
    "#Humidity\n",
    "\n",
    "humid_var = abs((humid_mean - humid_mean2)/humid_uncertainty)\n",
    "print(humid_var, \"standard deviations\")"
   ]
  },
  {
   "cell_type": "code",
   "execution_count": null,
   "id": "4a8a4a7b",
   "metadata": {},
   "outputs": [],
   "source": [
    "#Pressure\n",
    "\n",
    "press_var = abs((pressure_mean - pressure_mean2)/pressure_uncertainty)\n",
    "print(press_var, \"standard deviations\")"
   ]
  },
  {
   "cell_type": "code",
   "execution_count": null,
   "id": "2b6653cd",
   "metadata": {},
   "outputs": [],
   "source": [
    "#Altitude\n",
    "\n",
    "alt_var = abs((alt_mean - alt_mean2)/alt_uncertainty)\n",
    "print(alt_var, \"standard deviations\")"
   ]
  },
  {
   "cell_type": "code",
   "execution_count": null,
   "id": "e40a820a",
   "metadata": {},
   "outputs": [],
   "source": [
    "#Calculating average variation\n",
    "\n",
    "var_values = [ten_var, temp_var, gas_var, humid_var, press_var, alt_var]\n",
    "np.mean(var_values)"
   ]
  },
  {
   "cell_type": "markdown",
   "id": "632ca06e",
   "metadata": {},
   "source": [
    "The average variation in the values (inside vs. outside) is 5800. The variation is greatest among variables such as pressure, temperature, and altitude, which vary greatly based on an inside laboratory compared to exposed, outdoor conditions. Ultimately, there is not much agreement between the values. "
   ]
  },
  {
   "cell_type": "markdown",
   "id": "29615bff",
   "metadata": {},
   "source": [
    "### Described by the CLT? "
   ]
  },
  {
   "cell_type": "markdown",
   "id": "33e962ff",
   "metadata": {},
   "source": [
    "Although it is likely that we took enough measurements for the CLT to apply, since there are upwards of 250 observations, we cannot know for certain whether the CLT applies.  "
   ]
  },
  {
   "cell_type": "markdown",
   "id": "c5cebc71",
   "metadata": {},
   "source": [
    "## Step 5: Comparing with another team's data "
   ]
  },
  {
   "cell_type": "markdown",
   "id": "9da173b3",
   "metadata": {},
   "source": [
    "### Inside"
   ]
  },
  {
   "cell_type": "code",
   "execution_count": null,
   "id": "03af22d9",
   "metadata": {},
   "outputs": [],
   "source": [
    "df3 = pd.read_csv(\"/Users/charliegu_1/Downloads/indoor250.csv\")"
   ]
  },
  {
   "cell_type": "code",
   "execution_count": null,
   "id": "9b6e826e",
   "metadata": {},
   "outputs": [],
   "source": [
    "one_mean3 = np.mean(df3['PM10 std'])\n",
    "one_std3 = np.std(df3['PM10 std'])\n",
    "\n",
    "one_x3 = np.linspace(one_mean3 - 5 * one_std3, one_mean3 + 5* one_std3, 100)\n",
    "one_y3 = norm.pdf(one_x3, one_mean3, one_std3)\n",
    "\n",
    "plt.hist(df3['PM10 std'], density = True)\n",
    "plt.xlabel(\"PM 1.0\")\n",
    "plt.ylabel(\"Frequency\")\n",
    "plt.plot(one_x3, one_y3, label=\"Them\")\n",
    "\n",
    "plt.hist(df['PM 1.0'], density = True)\n",
    "plt.xlabel(\"PM 1.0\")\n",
    "plt.ylabel(\"Frequency\")\n",
    "plt.plot(one_x, one_y, label=\"Us\")\n",
    "plt.legend()"
   ]
  },
  {
   "cell_type": "code",
   "execution_count": null,
   "id": "b88779a6",
   "metadata": {},
   "outputs": [],
   "source": [
    "mid_mean3 = np.mean(df3['PM25 std'])\n",
    "mid_std3 = np.std(df3['PM25 std'])\n",
    "\n",
    "mid_x3 = np.linspace(mid_mean3 - 5 * mid_std3, mid_mean3 + 5* mid_std3, 100)\n",
    "mid_y3 = norm.pdf(mid_x3, mid_mean3, mid_std3)\n",
    "\n",
    "plt.hist(df3['PM25 std'], density = True)\n",
    "plt.xlabel(\"PM 2.5\")\n",
    "plt.ylabel(\"Frequency\")\n",
    "plt.plot(mid_x3, mid_y3, label=\"Them\")\n",
    "\n",
    "plt.hist(df['PM 2.5'], density = True)\n",
    "plt.xlabel(\"PM 2.5\")\n",
    "plt.ylabel(\"Frequency\")\n",
    "plt.plot(mid_x, mid_y, label=\"Us\")\n",
    "plt.legend()"
   ]
  },
  {
   "cell_type": "code",
   "execution_count": null,
   "id": "9c2b4e2e",
   "metadata": {},
   "outputs": [],
   "source": [
    "ten_mean3 = np.mean(df3['PM 100 std'])\n",
    "ten_std3 = np.std(df3['PM 100 std'])\n",
    "\n",
    "ten_x3 = np.linspace(ten_mean3 - 5 * ten_std3, ten_mean3 + 5* ten_std3, 100)\n",
    "ten_y3 = norm.pdf(ten_x3, ten_mean3, ten_std3)\n",
    "\n",
    "plt.hist(df3['PM 100 std'], density = True)\n",
    "plt.xlabel(\"PM 10\")\n",
    "plt.ylabel(\"Frequency\")\n",
    "plt.plot(ten_x3, ten_y3, label=\"Theem\")\n",
    "\n",
    "plt.hist(df['PM 10'], density = True)\n",
    "plt.xlabel(\"PM 10\")\n",
    "plt.ylabel(\"Frequency\")\n",
    "plt.plot(ten_x, ten_y, label=\"Us\")\n",
    "plt.legend()"
   ]
  },
  {
   "cell_type": "code",
   "execution_count": null,
   "id": "b0508205",
   "metadata": {},
   "outputs": [],
   "source": [
    "temp_mean3 = np.mean(df3['Temperature'])\n",
    "temp_std3 = np.std(df3['Temperature'])\n",
    "\n",
    "temp_x3 = np.linspace(temp_mean3 - 5 * temp_std3, temp_mean3 + 5* temp_std3, 100)\n",
    "temp_y3 = norm.pdf(temp_x3, temp_mean3, temp_std3)\n",
    "\n",
    "\n",
    "plt.hist(df3['Temperature'], density = True)\n",
    "plt.xlabel(\"Temperature\")\n",
    "plt.ylabel(\"Frequency\")\n",
    "plt.plot(temp_x3, temp_y3, label=\"Them\")\n",
    "\n",
    "plt.hist(df['Temperature'], density = True)\n",
    "plt.xlabel(\"Temperature\")\n",
    "plt.ylabel(\"Frequency\")\n",
    "plt.plot(temp_x, temp_y, label=\"Us\")\n",
    "plt.legend()"
   ]
  },
  {
   "cell_type": "code",
   "execution_count": null,
   "id": "356580fe",
   "metadata": {},
   "outputs": [],
   "source": [
    "gas_mean3 = np.mean(df3['Gas'])\n",
    "gas_std3 = np.std(df3['Gas'])\n",
    "\n",
    "gas_x3 = np.linspace(gas_mean3 - 5 * gas_std3, gas_mean3 + 5* gas_std3, 100)\n",
    "gas_y3 = norm.pdf(gas_x3, gas_mean3, gas_std3)\n",
    "\n",
    "\n",
    "plt.hist(df3['Gas'], density = True)\n",
    "plt.xlabel(\"Gas\")\n",
    "plt.ylabel(\"Frequency\")\n",
    "plt.plot(gas_x3, gas_y3, label=\"Them\")\n",
    "\n",
    "plt.hist(df['Gas'], density = True)\n",
    "plt.xlabel(\"Gas\")\n",
    "plt.ylabel(\"Frequency\")\n",
    "plt.plot(gas_x, gas_y, label=\"Us\")\n",
    "plt.legend()"
   ]
  },
  {
   "cell_type": "code",
   "execution_count": null,
   "id": "95410076",
   "metadata": {},
   "outputs": [],
   "source": [
    "pressure_mean3 = np.mean(df3['Pressure'])\n",
    "pressure_std3 = np.std(df3['Pressure'])\n",
    "\n",
    "pressure_x3 = np.linspace(pressure_mean3 - 5 * pressure_std3, pressure_mean3 + 5* pressure_std3, 100)\n",
    "pressure_y3 = norm.pdf(pressure_x3, pressure_mean3, pressure_std3)\n",
    "\n",
    "\n",
    "plt.hist(df3['Pressure'], density = True)\n",
    "plt.xlabel(\"Pressure\")\n",
    "plt.ylabel(\"Frequency\")\n",
    "plt.plot(pressure_x3, pressure_y3, label=\"Them\")\n",
    "\n",
    "plt.hist(df['Pressure'], density = True)\n",
    "plt.xlabel(\"Pressure\")\n",
    "plt.ylabel(\"Frequency\")\n",
    "plt.plot(pressure_x, pressure_y, label=\"Us\")\n",
    "plt.legend()"
   ]
  },
  {
   "cell_type": "code",
   "execution_count": null,
   "id": "178915a1",
   "metadata": {},
   "outputs": [],
   "source": [
    "alt_mean3 = np.mean(df3['Altitude'])\n",
    "alt_std3 = np.std(df3['Altitude'])\n",
    "\n",
    "alt_x3 = np.linspace(alt_mean3 - 5 * alt_std3, alt_mean3 + 5* alt_std3, 100)\n",
    "alt_y3 = norm.pdf(alt_x3, alt_mean3, alt_std3)\n",
    "\n",
    "\n",
    "plt.hist(df3['Altitude'], density = True)\n",
    "plt.xlabel(\"Altitude\")\n",
    "plt.ylabel(\"Frequency\")\n",
    "plt.plot(alt_x3, alt_y3, label=\"Them\")\n",
    "\n",
    "plt.hist(df['Altitude'], density = True)\n",
    "plt.xlabel(\"Altitude\")\n",
    "plt.ylabel(\"Frequency\")\n",
    "plt.plot(alt_x, alt_y, label=\"Us\")\n",
    "plt.legend()"
   ]
  },
  {
   "cell_type": "markdown",
   "id": "0f0dbde1",
   "metadata": {},
   "source": [
    "### Outside"
   ]
  },
  {
   "cell_type": "code",
   "execution_count": null,
   "id": "7f524fe0",
   "metadata": {},
   "outputs": [],
   "source": [
    "df4 = pd.read_csv('/Users/charliegu_1/Downloads/outdoor310.csv')"
   ]
  },
  {
   "cell_type": "code",
   "execution_count": null,
   "id": "093032fd",
   "metadata": {},
   "outputs": [],
   "source": [
    "one_mean4 = np.mean(df4['PM10 std'])\n",
    "one_std4 = np.std(df4['PM10 std'])\n",
    "\n",
    "one_x4 = np.linspace(one_mean4 - 5 * one_std4, one_mean4 + 5* one_std4, 100)\n",
    "one_y4 = norm.pdf(one_x4, one_mean4, one_std4)\n",
    "\n",
    "plt.hist(df4['PM10 std'], density = True)\n",
    "plt.xlabel(\"PM 1.0\")\n",
    "plt.ylabel(\"Frequency\")\n",
    "plt.plot(one_x4, one_y4, label=\"Them\")\n",
    "\n",
    "plt.hist(df2['PM 1.0'], density = True)\n",
    "plt.xlabel(\"PM 1.0\")\n",
    "plt.ylabel(\"Frequency\")\n",
    "plt.plot(one_x2, one_y2, label=\"Us\")\n",
    "plt.legend()"
   ]
  },
  {
   "cell_type": "code",
   "execution_count": null,
   "id": "7b12bb0a",
   "metadata": {},
   "outputs": [],
   "source": [
    "mid_mean4 = np.mean(df4['PM25 std'])\n",
    "mid_std4 = np.std(df4['PM25 std'])\n",
    "\n",
    "mid_x4 = np.linspace(mid_mean4 - 5 * mid_std4, mid_mean4 + 5* mid_std4, 100)\n",
    "mid_y4 = norm.pdf(mid_x4, mid_mean4, mid_std4)\n",
    "\n",
    "plt.hist(df4['PM25 std'], density = True)\n",
    "plt.xlabel(\"PM 2.5\")\n",
    "plt.ylabel(\"Frequency\")\n",
    "plt.plot(mid_x4, mid_y4, label=\"Them\")\n",
    "\n",
    "plt.hist(df2['PM 2.5'], density = True)\n",
    "plt.xlabel(\"PM 2.5\")\n",
    "plt.ylabel(\"Frequency\")\n",
    "plt.plot(mid_x2, mid_y2, label=\"Us\")\n",
    "plt.legend()"
   ]
  },
  {
   "cell_type": "code",
   "execution_count": null,
   "id": "7584e651",
   "metadata": {},
   "outputs": [],
   "source": [
    "ten_mean4 = np.mean(df4['PM 100 std'])\n",
    "ten_std4 = np.std(df4['PM 100 std'])\n",
    "\n",
    "ten_x4 = np.linspace(ten_mean4 - 5 * ten_std4, ten_mean4 + 5* ten_std4, 100)\n",
    "ten_y4 = norm.pdf(ten_x4, ten_mean4, ten_std4)\n",
    "\n",
    "plt.hist(df4['PM 100 std'], density = True)\n",
    "plt.xlabel(\"PM 10\")\n",
    "plt.ylabel(\"Frequency\")\n",
    "plt.plot(ten_x4, ten_y4, label=\"Them\")\n",
    "\n",
    "plt.hist(df2['PM 10'], density = True)\n",
    "plt.xlabel(\"PM 10\")\n",
    "plt.ylabel(\"Frequency\")\n",
    "plt.plot(ten_x2, ten_y2, label=\"Us\")\n",
    "plt.legend()"
   ]
  },
  {
   "cell_type": "code",
   "execution_count": null,
   "id": "530dc76e",
   "metadata": {},
   "outputs": [],
   "source": [
    "temp_mean4 = np.mean(df4['Temperature'])\n",
    "temp_std4 = np.std(df4['Temperature'])\n",
    "\n",
    "temp_x4 = np.linspace(temp_mean4 - 5 * temp_std4, temp_mean4 + 5* temp_std4, 100)\n",
    "temp_y4 = norm.pdf(temp_x4, temp_mean4, temp_std4)\n",
    "\n",
    "plt.hist(df4['Temperature'], density = True)\n",
    "plt.xlabel(\"Temperature\")\n",
    "plt.ylabel(\"Frequency\")\n",
    "plt.plot(temp_x4, temp_y4, label=\"Them\")\n",
    "\n",
    "plt.hist(df2['Temperature'], density = True)\n",
    "plt.xlabel(\"Temperature\")\n",
    "plt.ylabel(\"Frequency\")\n",
    "plt.plot(temp_x2, temp_y2, label=\"Us\")\n",
    "plt.legend()"
   ]
  },
  {
   "cell_type": "code",
   "execution_count": null,
   "id": "ddb72c41",
   "metadata": {},
   "outputs": [],
   "source": [
    "gas_mean4 = np.mean(df4['Gas'])\n",
    "gas_std4 = np.std(df4['Gas'])\n",
    "\n",
    "gas_x4 = np.linspace(gas_mean4 - 5 * gas_std4, gas_mean4 + 5* gas_std4, 100)\n",
    "gas_y4 = norm.pdf(gas_x4, gas_mean4, gas_std4)\n",
    "\n",
    "plt.hist(df4['Gas'], density = True)\n",
    "plt.xlabel(\"Gas\")\n",
    "plt.ylabel(\"Frequency\")\n",
    "plt.plot(gas_x4, gas_y4, label=\"Them\")\n",
    "\n",
    "plt.hist(df2['Gas'], density = True)\n",
    "plt.xlabel(\"Gas\")\n",
    "plt.ylabel(\"Frequency\")\n",
    "plt.plot(gas_x2, gas_y2, label=\"Us\")\n",
    "plt.legend()"
   ]
  },
  {
   "cell_type": "code",
   "execution_count": null,
   "id": "1d546eb8",
   "metadata": {},
   "outputs": [],
   "source": [
    "humid_mean4 = np.mean(df4['Relative Humidity'])\n",
    "humid_std4 = np.std(df4['Relative Humidity'])\n",
    "\n",
    "humid_x4 = np.linspace(humid_mean4 - 5 * humid_std4, humid_mean4 + 5* humid_std4, 100)\n",
    "humid_y4 = norm.pdf(humid_x4, humid_mean4, humid_std4)\n",
    "\n",
    "plt.hist(df4['Relative Humidity'], density = True)\n",
    "plt.xlabel(\"Humidity\")\n",
    "plt.ylabel(\"Frequency\")\n",
    "plt.plot(humid_x4, humid_y4, label=\"Them\")\n",
    "\n",
    "plt.hist(df2['Humidity'], density = True)\n",
    "plt.xlabel(\"Humidity\")\n",
    "plt.ylabel(\"Frequency\")\n",
    "plt.plot(humid_x2, humid_y2, label=\"Us\")\n",
    "plt.legend()\n"
   ]
  },
  {
   "cell_type": "code",
   "execution_count": null,
   "id": "64394139",
   "metadata": {},
   "outputs": [],
   "source": [
    "pressure_mean4 = np.mean(df4['Pressure'])\n",
    "pressure_std4 = np.std(df4['Pressure'])\n",
    "\n",
    "pressure_x4 = np.linspace(pressure_mean4 - 5 * pressure_std4, pressure_mean4 + 5* pressure_std4, 100)\n",
    "pressure_y4 = norm.pdf(pressure_x4, pressure_mean4, pressure_std4)\n",
    "\n",
    "plt.hist(df4['Pressure'], density = True)\n",
    "plt.xlabel(\"Pressure\")\n",
    "plt.ylabel(\"Frequency\")\n",
    "plt.plot(pressure_x4, pressure_y4, label=\"Them\")\n",
    "\n",
    "plt.hist(df2['Pressure'], density = True)\n",
    "plt.xlabel(\"Pressure\")\n",
    "plt.ylabel(\"Frequency\")\n",
    "plt.plot(pressure_x2, pressure_y2, label=\"Us\")\n",
    "plt.legend()"
   ]
  },
  {
   "cell_type": "code",
   "execution_count": null,
   "id": "d0a17994",
   "metadata": {},
   "outputs": [],
   "source": [
    "alt_mean4 = np.mean(df4['Altitude'])\n",
    "alt_std4 = np.std(df4['Altitude'])\n",
    "\n",
    "alt_x4 = np.linspace(alt_mean4 - 5 * alt_std4, alt_mean4 + 5* alt_std4, 100)\n",
    "alt_y4 = norm.pdf(alt_x4, alt_mean4, alt_std4)\n",
    "\n",
    "plt.hist(df4['Altitude'], density = True)\n",
    "plt.xlabel(\"Altitude\")\n",
    "plt.ylabel(\"Frequency\")\n",
    "plt.plot(alt_x4, alt_y4, label=\"Them\")\n",
    "\n",
    "plt.hist(df2['Altitude'], density = True)\n",
    "plt.xlabel(\"Altitude\")\n",
    "plt.ylabel(\"Frequency\")\n",
    "plt.plot(alt_x2, alt_y2, label=\"Us\")\n",
    "plt.legend()"
   ]
  },
  {
   "cell_type": "markdown",
   "id": "7d9c7714",
   "metadata": {},
   "source": [
    "Summary of comparison: \n",
    "    \n",
    "When comparing the data between the two groups, the sensor readings appear to be relatively similar for variables that would be uniform no matter where the sensor reading was taken. For both inside and outside data, these include data such as PM, Temperature, and Humidity. Where there was more variation was when the sensors measured variables that might vary more based on the specific location where the sensor reading was taken, including altitude, pressure, and gas. Even in these cases, there was not significant variation between the distributions. "
   ]
  },
  {
   "cell_type": "markdown",
   "id": "aacc5f7f",
   "metadata": {},
   "source": [
    "## Extra Correlations in Data"
   ]
  },
  {
   "cell_type": "markdown",
   "id": "c75b2127",
   "metadata": {},
   "source": [
    "### Plotting temperature vs. humidity"
   ]
  },
  {
   "cell_type": "code",
   "execution_count": null,
   "id": "d22aebda",
   "metadata": {},
   "outputs": [],
   "source": [
    "df.head()"
   ]
  },
  {
   "cell_type": "code",
   "execution_count": null,
   "id": "85fae8aa",
   "metadata": {},
   "outputs": [],
   "source": [
    "#Inside\n",
    "\n",
    "plt.scatter(df['Temperature'], df['Humidity'])\n",
    "plt.xlabel(\"Temperature\")\n",
    "plt.ylabel(\"Humidity\")\n",
    "plt.title(\"Humidity vs. Temperature\")\n",
    "\n",
    "plt.plot(np.unique(df['Temperature']), np.poly1d(np.polyfit(df['Temperature'], df['Humidity'], 1))\n",
    "         (np.unique(df['Temperature'])), color='red')"
   ]
  },
  {
   "cell_type": "code",
   "execution_count": null,
   "id": "808e0fc7",
   "metadata": {},
   "outputs": [],
   "source": [
    "#Outside\n",
    "\n",
    "plt.scatter(df2['Temperature'], df2['Humidity'])\n",
    "plt.xlabel(\"Temperature\")\n",
    "plt.ylabel(\"Humidity\")\n",
    "plt.title(\"Humidity vs. Temperature\")\n",
    "\n",
    "plt.plot(np.unique(df2['Temperature']), np.poly1d(np.polyfit(df2['Temperature'], df2['Humidity'], 1))\n",
    "         (np.unique(df2['Temperature'])), color='red')"
   ]
  },
  {
   "cell_type": "markdown",
   "id": "507774b2",
   "metadata": {},
   "source": [
    "These plots show that there is negative correlation between humidity and temperature, in both inside and outside conditions. In other words, as temperature rises, the humidity decreases."
   ]
  },
  {
   "cell_type": "code",
   "execution_count": null,
   "id": "75fb754b",
   "metadata": {},
   "outputs": [],
   "source": [
    "temp_corr = df['Temperature'].corr(df['Humidity'])\n",
    "temp_corr"
   ]
  },
  {
   "cell_type": "code",
   "execution_count": null,
   "id": "46bee61d",
   "metadata": {},
   "outputs": [],
   "source": [
    "temp_corr_outside = df2['Temperature'].corr(df2['Humidity'])\n",
    "temp_corr_outside"
   ]
  },
  {
   "cell_type": "markdown",
   "id": "54a34a68",
   "metadata": {},
   "source": [
    "The correlation of -0.90, which occurs in both inside and outside experiments, indicates there is a strong negative correlation between temperature and humidity."
   ]
  },
  {
   "cell_type": "code",
   "execution_count": null,
   "id": "16ddaf8e",
   "metadata": {},
   "outputs": [],
   "source": [
    "#Temperature vs. Pressure\n",
    "\n",
    "#Inside\n",
    "\n",
    "plt.scatter(df['Temperature'], df['Pressure'])\n",
    "plt.xlabel(\"Temperature\")\n",
    "plt.ylabel(\"Pressure\")\n",
    "plt.title(\"Pressure vs. Temperature\")\n",
    "\n",
    "plt.plot(np.unique(df['Temperature']), np.poly1d(np.polyfit(df['Temperature'], df['Pressure'], 1))\n",
    "         (np.unique(df['Temperature'])), color='red')"
   ]
  },
  {
   "cell_type": "code",
   "execution_count": null,
   "id": "e6fe8fcb",
   "metadata": {},
   "outputs": [],
   "source": [
    "#Temperature vs. Pressure\n",
    "\n",
    "#Outside\n",
    "\n",
    "plt.scatter(df2['Temperature'], df2['Pressure'])\n",
    "plt.xlabel(\"Temperature\")\n",
    "plt.ylabel(\"Pressure\")\n",
    "plt.title(\"Pressure vs. Temperature\")\n",
    "\n",
    "plt.plot(np.unique(df2['Temperature']), np.poly1d(np.polyfit(df2['Temperature'], df2['Pressure'], 1))\n",
    "         (np.unique(df2['Temperature'])), color='red')"
   ]
  },
  {
   "cell_type": "code",
   "execution_count": null,
   "id": "ff946a1d",
   "metadata": {},
   "outputs": [],
   "source": [
    "press_corr = df['Temperature'].corr(df['Pressure'])\n",
    "press_corr"
   ]
  },
  {
   "cell_type": "code",
   "execution_count": null,
   "id": "461ae3d0",
   "metadata": {},
   "outputs": [],
   "source": [
    "press_corr_outside = df2['Temperature'].corr(df2['Pressure'])\n",
    "press_corr_outside"
   ]
  },
  {
   "cell_type": "markdown",
   "id": "6a8cf220",
   "metadata": {},
   "source": [
    "These plots for inside and outside express seemingly opposite correlations, and the inside graph is more similar to the graph observed for the correlation between temperature and humidity. However, since the correlations are only moderately strong, it cannot be said that there are significant qualitative similarities between these correlations and the prior correlation."
   ]
  },
  {
   "cell_type": "code",
   "execution_count": null,
   "id": "fa7f7fef",
   "metadata": {},
   "outputs": [],
   "source": [
    "#Temperature vs. Gas\n",
    "\n",
    "#Inside\n",
    "\n",
    "plt.scatter(df['Temperature'], df['Gas'])\n",
    "plt.xlabel(\"Temperature\")\n",
    "plt.ylabel(\"Gas\")\n",
    "plt.title(\"Gas vs. Temperature\")\n",
    "\n",
    "plt.plot(np.unique(df['Temperature']), np.poly1d(np.polyfit(df['Temperature'], df['Gas'], 1))\n",
    "         (np.unique(df['Temperature'])), color='red')"
   ]
  },
  {
   "cell_type": "code",
   "execution_count": null,
   "id": "a07d56ae",
   "metadata": {},
   "outputs": [],
   "source": [
    "#Temperature vs. Gas\n",
    "\n",
    "#Outside\n",
    "\n",
    "plt.scatter(df2['Temperature'], df2['Gas'])\n",
    "plt.xlabel(\"Temperature\")\n",
    "plt.ylabel(\"Gas\")\n",
    "plt.title(\"Gas vs. Temperature\")\n",
    "\n",
    "plt.plot(np.unique(df2['Temperature']), np.poly1d(np.polyfit(df2['Temperature'], df2['Gas'], 1))\n",
    "         (np.unique(df2['Temperature'])), color='red')"
   ]
  },
  {
   "cell_type": "code",
   "execution_count": null,
   "id": "b7002f86",
   "metadata": {},
   "outputs": [],
   "source": [
    "gas_corr = df['Temperature'].corr(df['Gas'])\n",
    "gas_corr"
   ]
  },
  {
   "cell_type": "code",
   "execution_count": null,
   "id": "973d0fad",
   "metadata": {},
   "outputs": [],
   "source": [
    "gas_corr_outside = df2['Temperature'].corr(df2['Gas'])\n",
    "gas_corr_outside"
   ]
  },
  {
   "cell_type": "markdown",
   "id": "a50fdd36",
   "metadata": {},
   "source": [
    "Again, these plots express opposite correlations for both inside and outside. These correlations are not very qualitatively similar to that of temperature vs. humidity, as they are not nearly as strong, and only the outside experiment shows a negative correlation (albeit quite moderate).  "
   ]
  },
  {
   "cell_type": "code",
   "execution_count": null,
   "id": "20e6f5f3",
   "metadata": {},
   "outputs": [],
   "source": [
    "#Temperature vs. Altitude\n",
    "\n",
    "#Inside\n",
    "\n",
    "plt.scatter(df['Temperature'], df['Altitude'])\n",
    "plt.xlabel(\"Temperature\")\n",
    "plt.ylabel(\"Altitude\")\n",
    "plt.title(\"Altitude vs. Temperature\")\n",
    "\n",
    "plt.plot(np.unique(df['Temperature']), np.poly1d(np.polyfit(df['Temperature'], df['Altitude'], 1))\n",
    "         (np.unique(df['Temperature'])), color='red')"
   ]
  },
  {
   "cell_type": "code",
   "execution_count": null,
   "id": "80056917",
   "metadata": {},
   "outputs": [],
   "source": [
    "#Temperature vs. Altitude\n",
    "\n",
    "#Outside\n",
    "\n",
    "plt.scatter(df2['Temperature'], df2['Altitude'])\n",
    "plt.xlabel(\"Temperature\")\n",
    "plt.ylabel(\"Altitude\")\n",
    "plt.title(\"Altitude vs. Temperature\")\n",
    "\n",
    "plt.plot(np.unique(df2['Temperature']), np.poly1d(np.polyfit(df2['Temperature'], df2['Altitude'], 1))\n",
    "         (np.unique(df2['Temperature'])), color='red')"
   ]
  },
  {
   "cell_type": "code",
   "execution_count": null,
   "id": "2bca8ade",
   "metadata": {},
   "outputs": [],
   "source": [
    "alt_corr = df['Temperature'].corr(df['Altitude'])\n",
    "alt_corr"
   ]
  },
  {
   "cell_type": "code",
   "execution_count": null,
   "id": "c0707c98",
   "metadata": {},
   "outputs": [],
   "source": [
    "alt_corr_outside = df2['Temperature'].corr(df2['Altitude'])\n",
    "alt_corr_outside"
   ]
  },
  {
   "cell_type": "markdown",
   "id": "c5763780",
   "metadata": {},
   "source": [
    "The plot of altitude vs. temperature also expresses differing correlations. These correlations are not quite qualitatively similar to that of temperature vs. humidity, as they are not nearly as strong, and only the outside experiment shows a negative correlation (albeit quite moderate). "
   ]
  },
  {
   "cell_type": "code",
   "execution_count": null,
   "id": "5caeb973",
   "metadata": {},
   "outputs": [],
   "source": [
    "#Temperature vs. PM 10\n",
    "\n",
    "#Inside\n",
    "\n",
    "plt.scatter(df['Temperature'], df['PM 10'])\n",
    "plt.xlabel(\"Temperature\")\n",
    "plt.ylabel(\"PM 10\")\n",
    "plt.title(\"PM 10 vs. Temperature\")\n",
    "\n",
    "plt.plot(np.unique(df['Temperature']), np.poly1d(np.polyfit(df['Temperature'], df['PM 10'], 1))\n",
    "         (np.unique(df['Temperature'])), color='red')"
   ]
  },
  {
   "cell_type": "code",
   "execution_count": null,
   "id": "dba2e127",
   "metadata": {},
   "outputs": [],
   "source": [
    "#Temperature vs. PM 10\n",
    "\n",
    "#Outisde\n",
    "\n",
    "plt.scatter(df2['Temperature'], df2['PM 10'])\n",
    "plt.xlabel(\"Temperature\")\n",
    "plt.ylabel(\"PM 10\")\n",
    "plt.title(\"PM 10 vs. Temperature\")\n",
    "\n",
    "plt.plot(np.unique(df2['Temperature']), np.poly1d(np.polyfit(df2['Temperature'], df2['PM 10'], 1))\n",
    "         (np.unique(df2['Temperature'])), color='red')"
   ]
  },
  {
   "cell_type": "code",
   "execution_count": null,
   "id": "db465f55",
   "metadata": {},
   "outputs": [],
   "source": [
    "ten_corr = df['Temperature'].corr(df['PM 10'])\n",
    "ten_corr"
   ]
  },
  {
   "cell_type": "code",
   "execution_count": null,
   "id": "bf0e87a5",
   "metadata": {},
   "outputs": [],
   "source": [
    "ten_corr_outside = df2['Temperature'].corr(df2['PM 10'])\n",
    "ten_corr_outside"
   ]
  },
  {
   "cell_type": "markdown",
   "id": "77956d8a",
   "metadata": {},
   "source": [
    "These correlations are both weak-to-moderate negative correlations, and are not qualitatively similar to the correlation between temperature and humidity, except for being negative. "
   ]
  },
  {
   "cell_type": "code",
   "execution_count": null,
   "id": "7c6d0ae2",
   "metadata": {},
   "outputs": [],
   "source": [
    "#Temperature vs. PM 1.0\n",
    "\n",
    "#Inside\n",
    "\n",
    "plt.scatter(df['Temperature'], df['PM 1.0'])\n",
    "plt.xlabel(\"Temperature\")\n",
    "plt.ylabel(\"PM 1.0\")\n",
    "plt.title(\"PM 1.0 vs. Temperature\")\n",
    "\n",
    "plt.plot(np.unique(df['Temperature']), np.poly1d(np.polyfit(df['Temperature'], df['PM 1.0'], 1))\n",
    "         (np.unique(df['Temperature'])), color='red')"
   ]
  },
  {
   "cell_type": "code",
   "execution_count": null,
   "id": "d532f9fe",
   "metadata": {},
   "outputs": [],
   "source": [
    "#Temperature vs. PM 1.0\n",
    "\n",
    "#Outside\n",
    "\n",
    "plt.scatter(df2['Temperature'], df2['PM 1.0'])\n",
    "plt.xlabel(\"Temperature\")\n",
    "plt.ylabel(\"PM 1.0\")\n",
    "plt.title(\"PM 1.0 vs. Temperature\")\n",
    "\n",
    "plt.plot(np.unique(df2['Temperature']), np.poly1d(np.polyfit(df2['Temperature'], df2['PM 1.0'], 1))\n",
    "         (np.unique(df2['Temperature'])), color='red')"
   ]
  },
  {
   "cell_type": "code",
   "execution_count": null,
   "id": "b6ed27d7",
   "metadata": {},
   "outputs": [],
   "source": [
    "one_corr = df['Temperature'].corr(df['PM 1.0'])\n",
    "one_corr"
   ]
  },
  {
   "cell_type": "code",
   "execution_count": null,
   "id": "d84eeeac",
   "metadata": {},
   "outputs": [],
   "source": [
    "one_corr_outside = df2['Temperature'].corr(df2['PM 1.0'])\n",
    "one_corr_outside"
   ]
  },
  {
   "cell_type": "markdown",
   "id": "9203fd24",
   "metadata": {},
   "source": [
    "The correlation for the inside experiment can't even be observed, and for the outside experiment the correlation is moderately negative. It does not bear much qualitative similarity to the correlation between temp and humidity. "
   ]
  },
  {
   "cell_type": "markdown",
   "id": "4a045576",
   "metadata": {},
   "source": [
    "### Temp vs. PM 2.5"
   ]
  },
  {
   "cell_type": "code",
   "execution_count": null,
   "id": "fe1d123c",
   "metadata": {},
   "outputs": [],
   "source": [
    "#Temperature vs. PM 2.5\n",
    "\n",
    "#Inside\n",
    "\n",
    "plt.scatter(df['Temperature'], df['PM 2.5'])\n",
    "plt.xlabel(\"Temperature\")\n",
    "plt.ylabel(\"PM 2.5\")\n",
    "plt.title(\"PM 2.5 vs. Temperature\")\n",
    "\n",
    "plt.plot(np.unique(df['Temperature']), np.poly1d(np.polyfit(df['Temperature'], df['PM 2.5'], 1))\n",
    "         (np.unique(df['Temperature'])), color='red')"
   ]
  },
  {
   "cell_type": "code",
   "execution_count": null,
   "id": "0c3b1454",
   "metadata": {},
   "outputs": [],
   "source": [
    "#Temperature vs. PM 2.5\n",
    "\n",
    "#Outside\n",
    "\n",
    "plt.scatter(df2['Temperature'], df2['PM 2.5'])\n",
    "plt.xlabel(\"Temperature\")\n",
    "plt.ylabel(\"PM 2.5\")\n",
    "plt.title(\"PM 2.5 vs. Temperature\")\n",
    "\n",
    "plt.plot(np.unique(df2['Temperature']), np.poly1d(np.polyfit(df2['Temperature'], df2['PM 2.5'], 1))\n",
    "         (np.unique(df2['Temperature'])), color='red')"
   ]
  },
  {
   "cell_type": "code",
   "execution_count": null,
   "id": "d933fe74",
   "metadata": {},
   "outputs": [],
   "source": [
    "mid_corr = df['Temperature'].corr(df['PM 2.5'])\n",
    "mid_corr"
   ]
  },
  {
   "cell_type": "code",
   "execution_count": null,
   "id": "9f8b0c2e",
   "metadata": {},
   "outputs": [],
   "source": [
    "mid_corr_outside = df2['Temperature'].corr(df2['PM 2.5'])\n",
    "mid_corr_outside"
   ]
  },
  {
   "cell_type": "markdown",
   "id": "683a0641",
   "metadata": {},
   "source": [
    "The correlation between temperature and PM 2.5 is similar to the correlation between Temperature and PM 1.0. For the inside experiment, the correlation can't even be observed, and for the outside, there is moderately weak correlation. When comparing this correlation to the temperature vs. humidity, the only qualitative similarity is that they are both negative, but the similarites do not extend much farther than that. "
   ]
  }
 ],
 "metadata": {
  "kernelspec": {
   "display_name": "Python 3 (ipykernel)",
   "language": "python",
   "name": "python3"
  },
  "language_info": {
   "codemirror_mode": {
    "name": "ipython",
    "version": 3
   },
   "file_extension": ".py",
   "mimetype": "text/x-python",
   "name": "python",
   "nbconvert_exporter": "python",
   "pygments_lexer": "ipython3",
   "version": "3.9.12"
  },
  "vscode": {
   "interpreter": {
    "hash": "aee8b7b246df8f9039afb4144a1f6fd8d2ca17a180786b69acc140d282b71a49"
   }
  }
 },
 "nbformat": 4,
 "nbformat_minor": 5
}
